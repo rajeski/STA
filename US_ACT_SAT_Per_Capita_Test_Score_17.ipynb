{
 "cells": [
  {
   "cell_type": "markdown",
   "metadata": {},
   "source": [
    "## Focus: Compare ACT and SAT Scores with Per-capita Income\n",
    "### Question 1: Is there a correlation between a student with a high ACT-score also taking the SAT?\n",
    "### Question 2 : What is the correlation between students' income levels and test scores?"
   ]
  },
  {
   "cell_type": "code",
   "execution_count": 71,
   "metadata": {},
   "outputs": [],
   "source": [
    "# Load required programs \n",
    "import pandas as pd\n",
    "import matplotlib.pyplot as plt\n",
    "import seaborn as sns"
   ]
  },
  {
   "cell_type": "code",
   "execution_count": 2,
   "metadata": {},
   "outputs": [],
   "source": [
    "# Load the two csv files of data\n",
    "df_act = pd.read_csv('act.csv', encoding='utf-8-sig', low_memory = False)"
   ]
  },
  {
   "cell_type": "code",
   "execution_count": 3,
   "metadata": {},
   "outputs": [],
   "source": [
    "# Load the two csv files of data\n",
    "df_sat = pd.read_csv('sat.csv', encoding='utf-8-sig', low_memory = False)"
   ]
  },
  {
   "cell_type": "code",
   "execution_count": 4,
   "metadata": {},
   "outputs": [
    {
     "data": {
      "text/html": [
       "<div>\n",
       "<style scoped>\n",
       "    .dataframe tbody tr th:only-of-type {\n",
       "        vertical-align: middle;\n",
       "    }\n",
       "\n",
       "    .dataframe tbody tr th {\n",
       "        vertical-align: top;\n",
       "    }\n",
       "\n",
       "    .dataframe thead th {\n",
       "        text-align: right;\n",
       "    }\n",
       "</style>\n",
       "<table border=\"1\" class=\"dataframe\">\n",
       "  <thead>\n",
       "    <tr style=\"text-align: right;\">\n",
       "      <th></th>\n",
       "      <th>State</th>\n",
       "      <th>Participation</th>\n",
       "      <th>English</th>\n",
       "      <th>Math</th>\n",
       "      <th>Reading</th>\n",
       "      <th>Science</th>\n",
       "      <th>Composite</th>\n",
       "    </tr>\n",
       "  </thead>\n",
       "  <tbody>\n",
       "    <tr>\n",
       "      <th>0</th>\n",
       "      <td>National</td>\n",
       "      <td>60%</td>\n",
       "      <td>20.3</td>\n",
       "      <td>20.7</td>\n",
       "      <td>21.4</td>\n",
       "      <td>21.0</td>\n",
       "      <td>21.0</td>\n",
       "    </tr>\n",
       "    <tr>\n",
       "      <th>1</th>\n",
       "      <td>Alabama</td>\n",
       "      <td>100%</td>\n",
       "      <td>18.9</td>\n",
       "      <td>18.4</td>\n",
       "      <td>19.7</td>\n",
       "      <td>19.4</td>\n",
       "      <td>19.2</td>\n",
       "    </tr>\n",
       "    <tr>\n",
       "      <th>2</th>\n",
       "      <td>Alaska</td>\n",
       "      <td>65%</td>\n",
       "      <td>18.7</td>\n",
       "      <td>19.8</td>\n",
       "      <td>20.4</td>\n",
       "      <td>19.9</td>\n",
       "      <td>19.8</td>\n",
       "    </tr>\n",
       "    <tr>\n",
       "      <th>3</th>\n",
       "      <td>Arizona</td>\n",
       "      <td>62%</td>\n",
       "      <td>18.6</td>\n",
       "      <td>19.8</td>\n",
       "      <td>20.1</td>\n",
       "      <td>19.8</td>\n",
       "      <td>19.7</td>\n",
       "    </tr>\n",
       "    <tr>\n",
       "      <th>4</th>\n",
       "      <td>Arkansas</td>\n",
       "      <td>100%</td>\n",
       "      <td>18.9</td>\n",
       "      <td>19.0</td>\n",
       "      <td>19.7</td>\n",
       "      <td>19.5</td>\n",
       "      <td>19.4</td>\n",
       "    </tr>\n",
       "  </tbody>\n",
       "</table>\n",
       "</div>"
      ],
      "text/plain": [
       "     State  Participation  English  Math  Reading  Science  Composite\n",
       "0  National           60%     20.3  20.7     21.4     21.0       21.0\n",
       "1   Alabama          100%     18.9  18.4     19.7     19.4       19.2\n",
       "2    Alaska           65%     18.7  19.8     20.4     19.9       19.8\n",
       "3   Arizona           62%     18.6  19.8     20.1     19.8       19.7\n",
       "4  Arkansas          100%     18.9  19.0     19.7     19.5       19.4"
      ]
     },
     "execution_count": 4,
     "metadata": {},
     "output_type": "execute_result"
    }
   ],
   "source": [
    "# Print the first five rows of each dataframe\n",
    "df_act.head(5)"
   ]
  },
  {
   "cell_type": "code",
   "execution_count": 5,
   "metadata": {},
   "outputs": [
    {
     "data": {
      "text/html": [
       "<div>\n",
       "<style scoped>\n",
       "    .dataframe tbody tr th:only-of-type {\n",
       "        vertical-align: middle;\n",
       "    }\n",
       "\n",
       "    .dataframe tbody tr th {\n",
       "        vertical-align: top;\n",
       "    }\n",
       "\n",
       "    .dataframe thead th {\n",
       "        text-align: right;\n",
       "    }\n",
       "</style>\n",
       "<table border=\"1\" class=\"dataframe\">\n",
       "  <thead>\n",
       "    <tr style=\"text-align: right;\">\n",
       "      <th></th>\n",
       "      <th>State</th>\n",
       "      <th>Participation</th>\n",
       "      <th>Evidence=based Reading and Writing</th>\n",
       "      <th>Math</th>\n",
       "      <th>Total</th>\n",
       "    </tr>\n",
       "  </thead>\n",
       "  <tbody>\n",
       "    <tr>\n",
       "      <th>0</th>\n",
       "      <td>Alabama</td>\n",
       "      <td>5%</td>\n",
       "      <td>593</td>\n",
       "      <td>572</td>\n",
       "      <td>1165</td>\n",
       "    </tr>\n",
       "    <tr>\n",
       "      <th>1</th>\n",
       "      <td>Alaska</td>\n",
       "      <td>38%</td>\n",
       "      <td>547</td>\n",
       "      <td>533</td>\n",
       "      <td>1080</td>\n",
       "    </tr>\n",
       "    <tr>\n",
       "      <th>2</th>\n",
       "      <td>Arizona</td>\n",
       "      <td>30%</td>\n",
       "      <td>563</td>\n",
       "      <td>553</td>\n",
       "      <td>1116</td>\n",
       "    </tr>\n",
       "    <tr>\n",
       "      <th>3</th>\n",
       "      <td>Arkansas</td>\n",
       "      <td>3%</td>\n",
       "      <td>614</td>\n",
       "      <td>594</td>\n",
       "      <td>1208</td>\n",
       "    </tr>\n",
       "    <tr>\n",
       "      <th>4</th>\n",
       "      <td>California</td>\n",
       "      <td>53%</td>\n",
       "      <td>531</td>\n",
       "      <td>524</td>\n",
       "      <td>1055</td>\n",
       "    </tr>\n",
       "  </tbody>\n",
       "</table>\n",
       "</div>"
      ],
      "text/plain": [
       "        State Participation  Evidence=based Reading and Writing   Math  Total\n",
       "0     Alabama            5%                                  593   572   1165\n",
       "1      Alaska           38%                                  547   533   1080\n",
       "2     Arizona           30%                                  563   553   1116\n",
       "3    Arkansas            3%                                  614   594   1208\n",
       "4  California           53%                                  531   524   1055"
      ]
     },
     "execution_count": 5,
     "metadata": {},
     "output_type": "execute_result"
    }
   ],
   "source": [
    "# Print the first five rows of each dataframe\n",
    "df_sat.head(5)"
   ]
  },
  {
   "cell_type": "code",
   "execution_count": 6,
   "metadata": {},
   "outputs": [
    {
     "data": {
      "text/html": [
       "<div>\n",
       "<style scoped>\n",
       "    .dataframe tbody tr th:only-of-type {\n",
       "        vertical-align: middle;\n",
       "    }\n",
       "\n",
       "    .dataframe tbody tr th {\n",
       "        vertical-align: top;\n",
       "    }\n",
       "\n",
       "    .dataframe thead th {\n",
       "        text-align: right;\n",
       "    }\n",
       "</style>\n",
       "<table border=\"1\" class=\"dataframe\">\n",
       "  <thead>\n",
       "    <tr style=\"text-align: right;\">\n",
       "      <th></th>\n",
       "      <th>State</th>\n",
       "      <th>Participation</th>\n",
       "      <th>English</th>\n",
       "      <th>Math</th>\n",
       "      <th>Reading</th>\n",
       "      <th>Science</th>\n",
       "      <th>Composite</th>\n",
       "    </tr>\n",
       "  </thead>\n",
       "  <tbody>\n",
       "    <tr>\n",
       "      <th>47</th>\n",
       "      <td>Virginia</td>\n",
       "      <td>29%</td>\n",
       "      <td>23.5</td>\n",
       "      <td>23.3</td>\n",
       "      <td>24.6</td>\n",
       "      <td>23.5</td>\n",
       "      <td>23.8</td>\n",
       "    </tr>\n",
       "    <tr>\n",
       "      <th>48</th>\n",
       "      <td>Washington</td>\n",
       "      <td>29%</td>\n",
       "      <td>20.9</td>\n",
       "      <td>21.9</td>\n",
       "      <td>22.1</td>\n",
       "      <td>22.0</td>\n",
       "      <td>21.9</td>\n",
       "    </tr>\n",
       "    <tr>\n",
       "      <th>49</th>\n",
       "      <td>West Virginia</td>\n",
       "      <td>69%</td>\n",
       "      <td>20.0</td>\n",
       "      <td>19.4</td>\n",
       "      <td>21.2</td>\n",
       "      <td>20.5</td>\n",
       "      <td>20.4</td>\n",
       "    </tr>\n",
       "    <tr>\n",
       "      <th>50</th>\n",
       "      <td>Wisconsin</td>\n",
       "      <td>100%</td>\n",
       "      <td>19.7</td>\n",
       "      <td>20.4</td>\n",
       "      <td>20.6</td>\n",
       "      <td>20.9</td>\n",
       "      <td>20.5</td>\n",
       "    </tr>\n",
       "    <tr>\n",
       "      <th>51</th>\n",
       "      <td>Wyoming</td>\n",
       "      <td>100%</td>\n",
       "      <td>19.4</td>\n",
       "      <td>19.8</td>\n",
       "      <td>20.8</td>\n",
       "      <td>20.6</td>\n",
       "      <td>20.2</td>\n",
       "    </tr>\n",
       "  </tbody>\n",
       "</table>\n",
       "</div>"
      ],
      "text/plain": [
       "           State  Participation  English  Math  Reading  Science  Composite\n",
       "47       Virginia           29%     23.5  23.3     24.6     23.5       23.8\n",
       "48     Washington           29%     20.9  21.9     22.1     22.0       21.9\n",
       "49  West Virginia           69%     20.0  19.4     21.2     20.5       20.4\n",
       "50      Wisconsin          100%     19.7  20.4     20.6     20.9       20.5\n",
       "51        Wyoming          100%     19.4  19.8     20.8     20.6       20.2"
      ]
     },
     "execution_count": 6,
     "metadata": {},
     "output_type": "execute_result"
    }
   ],
   "source": [
    "# Print the last five rows of each dataframe\n",
    "df_act.tail(5)"
   ]
  },
  {
   "cell_type": "code",
   "execution_count": 7,
   "metadata": {},
   "outputs": [
    {
     "data": {
      "text/html": [
       "<div>\n",
       "<style scoped>\n",
       "    .dataframe tbody tr th:only-of-type {\n",
       "        vertical-align: middle;\n",
       "    }\n",
       "\n",
       "    .dataframe tbody tr th {\n",
       "        vertical-align: top;\n",
       "    }\n",
       "\n",
       "    .dataframe thead th {\n",
       "        text-align: right;\n",
       "    }\n",
       "</style>\n",
       "<table border=\"1\" class=\"dataframe\">\n",
       "  <thead>\n",
       "    <tr style=\"text-align: right;\">\n",
       "      <th></th>\n",
       "      <th>State</th>\n",
       "      <th>Participation</th>\n",
       "      <th>Evidence=based Reading and Writing</th>\n",
       "      <th>Math</th>\n",
       "      <th>Total</th>\n",
       "    </tr>\n",
       "  </thead>\n",
       "  <tbody>\n",
       "    <tr>\n",
       "      <th>46</th>\n",
       "      <td>Virginia</td>\n",
       "      <td>65%</td>\n",
       "      <td>561</td>\n",
       "      <td>541</td>\n",
       "      <td>1102</td>\n",
       "    </tr>\n",
       "    <tr>\n",
       "      <th>47</th>\n",
       "      <td>Washington</td>\n",
       "      <td>64%</td>\n",
       "      <td>541</td>\n",
       "      <td>534</td>\n",
       "      <td>1075</td>\n",
       "    </tr>\n",
       "    <tr>\n",
       "      <th>48</th>\n",
       "      <td>West Virginia</td>\n",
       "      <td>14%</td>\n",
       "      <td>558</td>\n",
       "      <td>528</td>\n",
       "      <td>1086</td>\n",
       "    </tr>\n",
       "    <tr>\n",
       "      <th>49</th>\n",
       "      <td>Wisconsin</td>\n",
       "      <td>3%</td>\n",
       "      <td>642</td>\n",
       "      <td>649</td>\n",
       "      <td>1291</td>\n",
       "    </tr>\n",
       "    <tr>\n",
       "      <th>50</th>\n",
       "      <td>Wyoming</td>\n",
       "      <td>3%</td>\n",
       "      <td>626</td>\n",
       "      <td>604</td>\n",
       "      <td>1230</td>\n",
       "    </tr>\n",
       "  </tbody>\n",
       "</table>\n",
       "</div>"
      ],
      "text/plain": [
       "            State Participation  Evidence=based Reading and Writing   Math  \\\n",
       "46       Virginia           65%                                  561   541   \n",
       "47     Washington           64%                                  541   534   \n",
       "48  West Virginia           14%                                  558   528   \n",
       "49      Wisconsin            3%                                  642   649   \n",
       "50        Wyoming            3%                                  626   604   \n",
       "\n",
       "    Total  \n",
       "46   1102  \n",
       "47   1075  \n",
       "48   1086  \n",
       "49   1291  \n",
       "50   1230  "
      ]
     },
     "execution_count": 7,
     "metadata": {},
     "output_type": "execute_result"
    }
   ],
   "source": [
    "# Print the last five rows of each dataframe\n",
    "df_sat.tail(5)"
   ]
  },
  {
   "cell_type": "markdown",
   "metadata": {},
   "source": [
    "## Column Labels for ACT; SAT and Income Dataframes\n",
    "\n",
    "#### State (50 total plus DC) | Otherwise, National is the entire USA including \n",
    "#### Participation - Student percentage of test-takers\n",
    "#### Other columns - Subject Names \n",
    "#### Total Column - The sum of all (SAT) test-subjects\n",
    "#### Composite - Mean toal of all (ACT) test-subjects \n",
    "#### Income - Per Capita Income by State"
   ]
  },
  {
   "cell_type": "code",
   "execution_count": 8,
   "metadata": {},
   "outputs": [
    {
     "data": {
      "text/html": [
       "<div>\n",
       "<style scoped>\n",
       "    .dataframe tbody tr th:only-of-type {\n",
       "        vertical-align: middle;\n",
       "    }\n",
       "\n",
       "    .dataframe tbody tr th {\n",
       "        vertical-align: top;\n",
       "    }\n",
       "\n",
       "    .dataframe thead th {\n",
       "        text-align: right;\n",
       "    }\n",
       "</style>\n",
       "<table border=\"1\" class=\"dataframe\">\n",
       "  <thead>\n",
       "    <tr style=\"text-align: right;\">\n",
       "      <th></th>\n",
       "      <th>State</th>\n",
       "      <th>Participation</th>\n",
       "      <th>English</th>\n",
       "      <th>Math</th>\n",
       "      <th>Reading</th>\n",
       "      <th>Science</th>\n",
       "      <th>Composite</th>\n",
       "    </tr>\n",
       "  </thead>\n",
       "  <tbody>\n",
       "    <tr>\n",
       "      <th>21</th>\n",
       "      <td>Maryland</td>\n",
       "      <td>28%</td>\n",
       "      <td>23.3</td>\n",
       "      <td>23.1</td>\n",
       "      <td>24.2</td>\n",
       "      <td>2.3</td>\n",
       "      <td>23.6</td>\n",
       "    </tr>\n",
       "    <tr>\n",
       "      <th>29</th>\n",
       "      <td>Nevada</td>\n",
       "      <td>100%</td>\n",
       "      <td>16.3</td>\n",
       "      <td>18.0</td>\n",
       "      <td>18.1</td>\n",
       "      <td>18.2</td>\n",
       "      <td>17.8</td>\n",
       "    </tr>\n",
       "    <tr>\n",
       "      <th>25</th>\n",
       "      <td>Mississippi</td>\n",
       "      <td>100%</td>\n",
       "      <td>18.2</td>\n",
       "      <td>18.1</td>\n",
       "      <td>18.8</td>\n",
       "      <td>18.8</td>\n",
       "      <td>18.6</td>\n",
       "    </tr>\n",
       "    <tr>\n",
       "      <th>41</th>\n",
       "      <td>South Carolina</td>\n",
       "      <td>100%</td>\n",
       "      <td>17.5</td>\n",
       "      <td>18.6</td>\n",
       "      <td>19.1</td>\n",
       "      <td>18.9</td>\n",
       "      <td>18.7</td>\n",
       "    </tr>\n",
       "    <tr>\n",
       "      <th>34</th>\n",
       "      <td>North Carolina</td>\n",
       "      <td>100%</td>\n",
       "      <td>17.8</td>\n",
       "      <td>19.3</td>\n",
       "      <td>19.6</td>\n",
       "      <td>19.3</td>\n",
       "      <td>19.1</td>\n",
       "    </tr>\n",
       "  </tbody>\n",
       "</table>\n",
       "</div>"
      ],
      "text/plain": [
       "            State  Participation  English  Math  Reading  Science  Composite\n",
       "21        Maryland           28%     23.3  23.1     24.2      2.3       23.6\n",
       "29          Nevada          100%     16.3  18.0     18.1     18.2       17.8\n",
       "25     Mississippi          100%     18.2  18.1     18.8     18.8       18.6\n",
       "41  South Carolina          100%     17.5  18.6     19.1     18.9       18.7\n",
       "34  North Carolina          100%     17.8  19.3     19.6     19.3       19.1"
      ]
     },
     "execution_count": 8,
     "metadata": {},
     "output_type": "execute_result"
    }
   ],
   "source": [
    "# Check for data outliers... There is one which is 2.3 \n",
    "df_act.sort_values(['Science']).head()"
   ]
  },
  {
   "cell_type": "code",
   "execution_count": 9,
   "metadata": {},
   "outputs": [
    {
     "data": {
      "text/html": [
       "<div>\n",
       "<style scoped>\n",
       "    .dataframe tbody tr th:only-of-type {\n",
       "        vertical-align: middle;\n",
       "    }\n",
       "\n",
       "    .dataframe tbody tr th {\n",
       "        vertical-align: top;\n",
       "    }\n",
       "\n",
       "    .dataframe thead th {\n",
       "        text-align: right;\n",
       "    }\n",
       "</style>\n",
       "<table border=\"1\" class=\"dataframe\">\n",
       "  <thead>\n",
       "    <tr style=\"text-align: right;\">\n",
       "      <th></th>\n",
       "      <th>State</th>\n",
       "      <th>Participation</th>\n",
       "      <th>Evidence=based Reading and Writing</th>\n",
       "      <th>Math</th>\n",
       "      <th>Total</th>\n",
       "    </tr>\n",
       "  </thead>\n",
       "  <tbody>\n",
       "    <tr>\n",
       "      <th>20</th>\n",
       "      <td>Maryland</td>\n",
       "      <td>69%</td>\n",
       "      <td>536</td>\n",
       "      <td>52</td>\n",
       "      <td>1060</td>\n",
       "    </tr>\n",
       "    <tr>\n",
       "      <th>8</th>\n",
       "      <td>District of Columbia</td>\n",
       "      <td>100%</td>\n",
       "      <td>482</td>\n",
       "      <td>468</td>\n",
       "      <td>950</td>\n",
       "    </tr>\n",
       "    <tr>\n",
       "      <th>7</th>\n",
       "      <td>Delaware</td>\n",
       "      <td>100%</td>\n",
       "      <td>503</td>\n",
       "      <td>492</td>\n",
       "      <td>996</td>\n",
       "    </tr>\n",
       "    <tr>\n",
       "      <th>12</th>\n",
       "      <td>Idaho</td>\n",
       "      <td>93%</td>\n",
       "      <td>513</td>\n",
       "      <td>493</td>\n",
       "      <td>1005</td>\n",
       "    </tr>\n",
       "    <tr>\n",
       "      <th>22</th>\n",
       "      <td>Michigan</td>\n",
       "      <td>100%</td>\n",
       "      <td>509</td>\n",
       "      <td>495</td>\n",
       "      <td>1005</td>\n",
       "    </tr>\n",
       "  </tbody>\n",
       "</table>\n",
       "</div>"
      ],
      "text/plain": [
       "                   State Participation  Evidence=based Reading and Writing   \\\n",
       "20              Maryland           69%                                  536   \n",
       "8   District of Columbia          100%                                  482   \n",
       "7               Delaware          100%                                  503   \n",
       "12                 Idaho           93%                                  513   \n",
       "22              Michigan          100%                                  509   \n",
       "\n",
       "    Math  Total  \n",
       "20    52   1060  \n",
       "8    468    950  \n",
       "7    492    996  \n",
       "12   493   1005  \n",
       "22   495   1005  "
      ]
     },
     "execution_count": 9,
     "metadata": {},
     "output_type": "execute_result"
    }
   ],
   "source": [
    "# Check for data outliers... This is one which is 52 \n",
    "df_sat.sort_values(['Math']).head()"
   ]
  },
  {
   "cell_type": "code",
   "execution_count": 10,
   "metadata": {},
   "outputs": [],
   "source": [
    "# Recheck the data source for last posted average in 2020 \n",
    "df_act.loc[21,'Science'] = 23.8"
   ]
  },
  {
   "cell_type": "code",
   "execution_count": 11,
   "metadata": {},
   "outputs": [],
   "source": [
    "# Recheck the data source for last posted average in 2020 \n",
    "df_sat.loc[20,'Math'] = 524"
   ]
  },
  {
   "cell_type": "code",
   "execution_count": 12,
   "metadata": {},
   "outputs": [],
   "source": [
    "# Determine datatypes for each column \n",
    "df_act['Total']=df_act['English']+df_act['Math']+df_act['Reading']+df_act['Science']"
   ]
  },
  {
   "cell_type": "code",
   "execution_count": 13,
   "metadata": {},
   "outputs": [
    {
     "data": {
      "text/plain": [
       "State             object\n",
       "Participation     object\n",
       "English          float64\n",
       "Math             float64\n",
       "Reading          float64\n",
       "Science          float64\n",
       "Composite        float64\n",
       "Total            float64\n",
       "dtype: object"
      ]
     },
     "execution_count": 13,
     "metadata": {},
     "output_type": "execute_result"
    }
   ],
   "source": [
    "# Print out the datatypes in the ACT Dataframe\n",
    "df_act.dtypes"
   ]
  },
  {
   "cell_type": "code",
   "execution_count": 14,
   "metadata": {},
   "outputs": [
    {
     "data": {
      "text/plain": [
       "State                                  object\n",
       "Participation                          object\n",
       "Evidence=based Reading and Writing      int64\n",
       "Math                                    int64\n",
       "Total                                   int64\n",
       "dtype: object"
      ]
     },
     "execution_count": 14,
     "metadata": {},
     "output_type": "execute_result"
    }
   ],
   "source": [
    "# Repeat the same step (SAT Dataframe)\n",
    "df_sat.dtypes"
   ]
  },
  {
   "cell_type": "code",
   "execution_count": 15,
   "metadata": {},
   "outputs": [],
   "source": [
    "# Unify the ACT data-types  \n",
    "df_act['Participation'] = df_act['Participation'].str[:-1]\n",
    "df_act['Participation'] = pd.to_numeric(df_act['Participation'])"
   ]
  },
  {
   "cell_type": "code",
   "execution_count": 16,
   "metadata": {},
   "outputs": [],
   "source": [
    "# Repeat the same step for the SAT data-types \n",
    "df_sat['Participation'] = df_sat['Participation'].str[:-1]\n",
    "df_sat['Participation'] = pd.to_numeric(df_sat['Participation'])"
   ]
  },
  {
   "cell_type": "code",
   "execution_count": 17,
   "metadata": {},
   "outputs": [
    {
     "data": {
      "text/html": [
       "<div>\n",
       "<style scoped>\n",
       "    .dataframe tbody tr th:only-of-type {\n",
       "        vertical-align: middle;\n",
       "    }\n",
       "\n",
       "    .dataframe tbody tr th {\n",
       "        vertical-align: top;\n",
       "    }\n",
       "\n",
       "    .dataframe thead th {\n",
       "        text-align: right;\n",
       "    }\n",
       "</style>\n",
       "<table border=\"1\" class=\"dataframe\">\n",
       "  <thead>\n",
       "    <tr style=\"text-align: right;\">\n",
       "      <th></th>\n",
       "      <th>State</th>\n",
       "      <th>Participation</th>\n",
       "      <th>English</th>\n",
       "      <th>Math</th>\n",
       "      <th>Reading</th>\n",
       "      <th>Science</th>\n",
       "      <th>Composite</th>\n",
       "      <th>Total</th>\n",
       "    </tr>\n",
       "  </thead>\n",
       "  <tbody>\n",
       "    <tr>\n",
       "      <th>0</th>\n",
       "      <td>National</td>\n",
       "      <td>60</td>\n",
       "      <td>20.3</td>\n",
       "      <td>20.7</td>\n",
       "      <td>21.4</td>\n",
       "      <td>21.0</td>\n",
       "      <td>21.0</td>\n",
       "      <td>83.4</td>\n",
       "    </tr>\n",
       "    <tr>\n",
       "      <th>1</th>\n",
       "      <td>Alabama</td>\n",
       "      <td>100</td>\n",
       "      <td>18.9</td>\n",
       "      <td>18.4</td>\n",
       "      <td>19.7</td>\n",
       "      <td>19.4</td>\n",
       "      <td>19.2</td>\n",
       "      <td>76.4</td>\n",
       "    </tr>\n",
       "    <tr>\n",
       "      <th>2</th>\n",
       "      <td>Alaska</td>\n",
       "      <td>65</td>\n",
       "      <td>18.7</td>\n",
       "      <td>19.8</td>\n",
       "      <td>20.4</td>\n",
       "      <td>19.9</td>\n",
       "      <td>19.8</td>\n",
       "      <td>78.8</td>\n",
       "    </tr>\n",
       "    <tr>\n",
       "      <th>3</th>\n",
       "      <td>Arizona</td>\n",
       "      <td>62</td>\n",
       "      <td>18.6</td>\n",
       "      <td>19.8</td>\n",
       "      <td>20.1</td>\n",
       "      <td>19.8</td>\n",
       "      <td>19.7</td>\n",
       "      <td>78.3</td>\n",
       "    </tr>\n",
       "    <tr>\n",
       "      <th>4</th>\n",
       "      <td>Arkansas</td>\n",
       "      <td>100</td>\n",
       "      <td>18.9</td>\n",
       "      <td>19.0</td>\n",
       "      <td>19.7</td>\n",
       "      <td>19.5</td>\n",
       "      <td>19.4</td>\n",
       "      <td>77.1</td>\n",
       "    </tr>\n",
       "  </tbody>\n",
       "</table>\n",
       "</div>"
      ],
      "text/plain": [
       "     State   Participation  English  Math  Reading  Science  Composite  Total\n",
       "0  National             60     20.3  20.7     21.4     21.0       21.0   83.4\n",
       "1   Alabama            100     18.9  18.4     19.7     19.4       19.2   76.4\n",
       "2    Alaska             65     18.7  19.8     20.4     19.9       19.8   78.8\n",
       "3   Arizona             62     18.6  19.8     20.1     19.8       19.7   78.3\n",
       "4  Arkansas            100     18.9  19.0     19.7     19.5       19.4   77.1"
      ]
     },
     "execution_count": 17,
     "metadata": {},
     "output_type": "execute_result"
    }
   ],
   "source": [
    "# Recheck ACT Data Head and Tail (Also, to Visually Check for Lower Participation Rates)\n",
    "df_act.head()"
   ]
  },
  {
   "cell_type": "code",
   "execution_count": 18,
   "metadata": {},
   "outputs": [
    {
     "data": {
      "text/html": [
       "<div>\n",
       "<style scoped>\n",
       "    .dataframe tbody tr th:only-of-type {\n",
       "        vertical-align: middle;\n",
       "    }\n",
       "\n",
       "    .dataframe tbody tr th {\n",
       "        vertical-align: top;\n",
       "    }\n",
       "\n",
       "    .dataframe thead th {\n",
       "        text-align: right;\n",
       "    }\n",
       "</style>\n",
       "<table border=\"1\" class=\"dataframe\">\n",
       "  <thead>\n",
       "    <tr style=\"text-align: right;\">\n",
       "      <th></th>\n",
       "      <th>State</th>\n",
       "      <th>Participation</th>\n",
       "      <th>English</th>\n",
       "      <th>Math</th>\n",
       "      <th>Reading</th>\n",
       "      <th>Science</th>\n",
       "      <th>Composite</th>\n",
       "      <th>Total</th>\n",
       "    </tr>\n",
       "  </thead>\n",
       "  <tbody>\n",
       "    <tr>\n",
       "      <th>47</th>\n",
       "      <td>Virginia</td>\n",
       "      <td>29</td>\n",
       "      <td>23.5</td>\n",
       "      <td>23.3</td>\n",
       "      <td>24.6</td>\n",
       "      <td>23.5</td>\n",
       "      <td>23.8</td>\n",
       "      <td>94.9</td>\n",
       "    </tr>\n",
       "    <tr>\n",
       "      <th>48</th>\n",
       "      <td>Washington</td>\n",
       "      <td>29</td>\n",
       "      <td>20.9</td>\n",
       "      <td>21.9</td>\n",
       "      <td>22.1</td>\n",
       "      <td>22.0</td>\n",
       "      <td>21.9</td>\n",
       "      <td>86.9</td>\n",
       "    </tr>\n",
       "    <tr>\n",
       "      <th>49</th>\n",
       "      <td>West Virginia</td>\n",
       "      <td>69</td>\n",
       "      <td>20.0</td>\n",
       "      <td>19.4</td>\n",
       "      <td>21.2</td>\n",
       "      <td>20.5</td>\n",
       "      <td>20.4</td>\n",
       "      <td>81.1</td>\n",
       "    </tr>\n",
       "    <tr>\n",
       "      <th>50</th>\n",
       "      <td>Wisconsin</td>\n",
       "      <td>100</td>\n",
       "      <td>19.7</td>\n",
       "      <td>20.4</td>\n",
       "      <td>20.6</td>\n",
       "      <td>20.9</td>\n",
       "      <td>20.5</td>\n",
       "      <td>81.6</td>\n",
       "    </tr>\n",
       "    <tr>\n",
       "      <th>51</th>\n",
       "      <td>Wyoming</td>\n",
       "      <td>100</td>\n",
       "      <td>19.4</td>\n",
       "      <td>19.8</td>\n",
       "      <td>20.8</td>\n",
       "      <td>20.6</td>\n",
       "      <td>20.2</td>\n",
       "      <td>80.6</td>\n",
       "    </tr>\n",
       "  </tbody>\n",
       "</table>\n",
       "</div>"
      ],
      "text/plain": [
       "           State   Participation  English  Math  Reading  Science  Composite  \\\n",
       "47       Virginia             29     23.5  23.3     24.6     23.5       23.8   \n",
       "48     Washington             29     20.9  21.9     22.1     22.0       21.9   \n",
       "49  West Virginia             69     20.0  19.4     21.2     20.5       20.4   \n",
       "50      Wisconsin            100     19.7  20.4     20.6     20.9       20.5   \n",
       "51        Wyoming            100     19.4  19.8     20.8     20.6       20.2   \n",
       "\n",
       "    Total  \n",
       "47   94.9  \n",
       "48   86.9  \n",
       "49   81.1  \n",
       "50   81.6  \n",
       "51   80.6  "
      ]
     },
     "execution_count": 18,
     "metadata": {},
     "output_type": "execute_result"
    }
   ],
   "source": [
    "df_act.tail()"
   ]
  },
  {
   "cell_type": "code",
   "execution_count": 19,
   "metadata": {},
   "outputs": [
    {
     "data": {
      "text/html": [
       "<div>\n",
       "<style scoped>\n",
       "    .dataframe tbody tr th:only-of-type {\n",
       "        vertical-align: middle;\n",
       "    }\n",
       "\n",
       "    .dataframe tbody tr th {\n",
       "        vertical-align: top;\n",
       "    }\n",
       "\n",
       "    .dataframe thead th {\n",
       "        text-align: right;\n",
       "    }\n",
       "</style>\n",
       "<table border=\"1\" class=\"dataframe\">\n",
       "  <thead>\n",
       "    <tr style=\"text-align: right;\">\n",
       "      <th></th>\n",
       "      <th>State</th>\n",
       "      <th>Participation</th>\n",
       "      <th>Evidence=based Reading and Writing</th>\n",
       "      <th>Math</th>\n",
       "      <th>Total</th>\n",
       "    </tr>\n",
       "  </thead>\n",
       "  <tbody>\n",
       "    <tr>\n",
       "      <th>0</th>\n",
       "      <td>Alabama</td>\n",
       "      <td>5</td>\n",
       "      <td>593</td>\n",
       "      <td>572</td>\n",
       "      <td>1165</td>\n",
       "    </tr>\n",
       "    <tr>\n",
       "      <th>1</th>\n",
       "      <td>Alaska</td>\n",
       "      <td>38</td>\n",
       "      <td>547</td>\n",
       "      <td>533</td>\n",
       "      <td>1080</td>\n",
       "    </tr>\n",
       "    <tr>\n",
       "      <th>2</th>\n",
       "      <td>Arizona</td>\n",
       "      <td>30</td>\n",
       "      <td>563</td>\n",
       "      <td>553</td>\n",
       "      <td>1116</td>\n",
       "    </tr>\n",
       "    <tr>\n",
       "      <th>3</th>\n",
       "      <td>Arkansas</td>\n",
       "      <td>3</td>\n",
       "      <td>614</td>\n",
       "      <td>594</td>\n",
       "      <td>1208</td>\n",
       "    </tr>\n",
       "    <tr>\n",
       "      <th>4</th>\n",
       "      <td>California</td>\n",
       "      <td>53</td>\n",
       "      <td>531</td>\n",
       "      <td>524</td>\n",
       "      <td>1055</td>\n",
       "    </tr>\n",
       "  </tbody>\n",
       "</table>\n",
       "</div>"
      ],
      "text/plain": [
       "        State  Participation  Evidence=based Reading and Writing   Math  Total\n",
       "0     Alabama              5                                  593   572   1165\n",
       "1      Alaska             38                                  547   533   1080\n",
       "2     Arizona             30                                  563   553   1116\n",
       "3    Arkansas              3                                  614   594   1208\n",
       "4  California             53                                  531   524   1055"
      ]
     },
     "execution_count": 19,
     "metadata": {},
     "output_type": "execute_result"
    }
   ],
   "source": [
    "# Recheck SAT Data Head and Tail (Also, to Visually Check for Lower Participation Rates)\n",
    "df_sat.head()"
   ]
  },
  {
   "cell_type": "code",
   "execution_count": 20,
   "metadata": {},
   "outputs": [
    {
     "data": {
      "text/html": [
       "<div>\n",
       "<style scoped>\n",
       "    .dataframe tbody tr th:only-of-type {\n",
       "        vertical-align: middle;\n",
       "    }\n",
       "\n",
       "    .dataframe tbody tr th {\n",
       "        vertical-align: top;\n",
       "    }\n",
       "\n",
       "    .dataframe thead th {\n",
       "        text-align: right;\n",
       "    }\n",
       "</style>\n",
       "<table border=\"1\" class=\"dataframe\">\n",
       "  <thead>\n",
       "    <tr style=\"text-align: right;\">\n",
       "      <th></th>\n",
       "      <th>State</th>\n",
       "      <th>Participation</th>\n",
       "      <th>Evidence=based Reading and Writing</th>\n",
       "      <th>Math</th>\n",
       "      <th>Total</th>\n",
       "    </tr>\n",
       "  </thead>\n",
       "  <tbody>\n",
       "    <tr>\n",
       "      <th>46</th>\n",
       "      <td>Virginia</td>\n",
       "      <td>65</td>\n",
       "      <td>561</td>\n",
       "      <td>541</td>\n",
       "      <td>1102</td>\n",
       "    </tr>\n",
       "    <tr>\n",
       "      <th>47</th>\n",
       "      <td>Washington</td>\n",
       "      <td>64</td>\n",
       "      <td>541</td>\n",
       "      <td>534</td>\n",
       "      <td>1075</td>\n",
       "    </tr>\n",
       "    <tr>\n",
       "      <th>48</th>\n",
       "      <td>West Virginia</td>\n",
       "      <td>14</td>\n",
       "      <td>558</td>\n",
       "      <td>528</td>\n",
       "      <td>1086</td>\n",
       "    </tr>\n",
       "    <tr>\n",
       "      <th>49</th>\n",
       "      <td>Wisconsin</td>\n",
       "      <td>3</td>\n",
       "      <td>642</td>\n",
       "      <td>649</td>\n",
       "      <td>1291</td>\n",
       "    </tr>\n",
       "    <tr>\n",
       "      <th>50</th>\n",
       "      <td>Wyoming</td>\n",
       "      <td>3</td>\n",
       "      <td>626</td>\n",
       "      <td>604</td>\n",
       "      <td>1230</td>\n",
       "    </tr>\n",
       "  </tbody>\n",
       "</table>\n",
       "</div>"
      ],
      "text/plain": [
       "            State  Participation  Evidence=based Reading and Writing   Math  \\\n",
       "46       Virginia             65                                  561   541   \n",
       "47     Washington             64                                  541   534   \n",
       "48  West Virginia             14                                  558   528   \n",
       "49      Wisconsin              3                                  642   649   \n",
       "50        Wyoming              3                                  626   604   \n",
       "\n",
       "    Total  \n",
       "46   1102  \n",
       "47   1075  \n",
       "48   1086  \n",
       "49   1291  \n",
       "50   1230  "
      ]
     },
     "execution_count": 20,
     "metadata": {},
     "output_type": "execute_result"
    }
   ],
   "source": [
    "df_sat.tail()"
   ]
  },
  {
   "cell_type": "code",
   "execution_count": 21,
   "metadata": {},
   "outputs": [],
   "source": [
    "# Create a dictionary for more detailed data analysis of the ACT and SAT Dataframes \n",
    "dict_sat_rw = {}\n",
    "dict_sat_math = {}\n",
    "dict_sat_total = {}\n",
    "\n",
    "for i in df_sat.values:\n",
    "    dict_sat_rw[i[0]]=i[2]\n",
    "    dict_sat_math[i[0]]=i[3]\n",
    "    dict_sat_total[i[0]]=i[4]\n",
    "    \n",
    "dict_act_english = {}\n",
    "dict_act_math = {}\n",
    "dict_act_reading = {}\n",
    "dict_act_science = {}\n",
    "dict_act_composit = {}\n",
    "\n",
    "for i in df_act.values:\n",
    "    dict_act_english[i[0]] = i[2]\n",
    "    dict_act_math[i[0]] = i[3]\n",
    "    dict_act_reading[i[0]] = i[4]\n",
    "    dict_act_science[i[0]] = i[5]\n",
    "    dict_act_composit[i[0]] = i[6]"
   ]
  },
  {
   "cell_type": "code",
   "execution_count": 22,
   "metadata": {},
   "outputs": [],
   "source": [
    "# Create unified dictionaries for both datasets\n",
    "dict_sat = df_sat.to_dict()\n",
    "dict_act = df_act.to_dict()"
   ]
  },
  {
   "cell_type": "code",
   "execution_count": 23,
   "metadata": {},
   "outputs": [],
   "source": [
    "# Strip columns due to an error with trying to merge on State\n",
    "df_act.columns = df_act.columns.str.strip()\n",
    "df_sat.columns = df_sat.columns.str.strip()"
   ]
  },
  {
   "cell_type": "code",
   "execution_count": 24,
   "metadata": {},
   "outputs": [
    {
     "data": {
      "text/html": [
       "<div>\n",
       "<style scoped>\n",
       "    .dataframe tbody tr th:only-of-type {\n",
       "        vertical-align: middle;\n",
       "    }\n",
       "\n",
       "    .dataframe tbody tr th {\n",
       "        vertical-align: top;\n",
       "    }\n",
       "\n",
       "    .dataframe thead th {\n",
       "        text-align: right;\n",
       "    }\n",
       "</style>\n",
       "<table border=\"1\" class=\"dataframe\">\n",
       "  <thead>\n",
       "    <tr style=\"text-align: right;\">\n",
       "      <th></th>\n",
       "      <th>State</th>\n",
       "      <th>Participation_x</th>\n",
       "      <th>English</th>\n",
       "      <th>Math_x</th>\n",
       "      <th>Reading</th>\n",
       "      <th>Science</th>\n",
       "      <th>Composite</th>\n",
       "      <th>Total_x</th>\n",
       "      <th>Participation_y</th>\n",
       "      <th>Evidence=based Reading and Writing</th>\n",
       "      <th>Math_y</th>\n",
       "      <th>Total_y</th>\n",
       "    </tr>\n",
       "  </thead>\n",
       "  <tbody>\n",
       "    <tr>\n",
       "      <th>0</th>\n",
       "      <td>Alabama</td>\n",
       "      <td>100</td>\n",
       "      <td>18.9</td>\n",
       "      <td>18.4</td>\n",
       "      <td>19.7</td>\n",
       "      <td>19.4</td>\n",
       "      <td>19.2</td>\n",
       "      <td>76.4</td>\n",
       "      <td>5</td>\n",
       "      <td>593</td>\n",
       "      <td>572</td>\n",
       "      <td>1165</td>\n",
       "    </tr>\n",
       "    <tr>\n",
       "      <th>1</th>\n",
       "      <td>Alaska</td>\n",
       "      <td>65</td>\n",
       "      <td>18.7</td>\n",
       "      <td>19.8</td>\n",
       "      <td>20.4</td>\n",
       "      <td>19.9</td>\n",
       "      <td>19.8</td>\n",
       "      <td>78.8</td>\n",
       "      <td>38</td>\n",
       "      <td>547</td>\n",
       "      <td>533</td>\n",
       "      <td>1080</td>\n",
       "    </tr>\n",
       "    <tr>\n",
       "      <th>2</th>\n",
       "      <td>Arizona</td>\n",
       "      <td>62</td>\n",
       "      <td>18.6</td>\n",
       "      <td>19.8</td>\n",
       "      <td>20.1</td>\n",
       "      <td>19.8</td>\n",
       "      <td>19.7</td>\n",
       "      <td>78.3</td>\n",
       "      <td>30</td>\n",
       "      <td>563</td>\n",
       "      <td>553</td>\n",
       "      <td>1116</td>\n",
       "    </tr>\n",
       "    <tr>\n",
       "      <th>3</th>\n",
       "      <td>Arkansas</td>\n",
       "      <td>100</td>\n",
       "      <td>18.9</td>\n",
       "      <td>19.0</td>\n",
       "      <td>19.7</td>\n",
       "      <td>19.5</td>\n",
       "      <td>19.4</td>\n",
       "      <td>77.1</td>\n",
       "      <td>3</td>\n",
       "      <td>614</td>\n",
       "      <td>594</td>\n",
       "      <td>1208</td>\n",
       "    </tr>\n",
       "    <tr>\n",
       "      <th>4</th>\n",
       "      <td>California</td>\n",
       "      <td>31</td>\n",
       "      <td>22.5</td>\n",
       "      <td>22.7</td>\n",
       "      <td>23.1</td>\n",
       "      <td>22.2</td>\n",
       "      <td>22.8</td>\n",
       "      <td>90.5</td>\n",
       "      <td>53</td>\n",
       "      <td>531</td>\n",
       "      <td>524</td>\n",
       "      <td>1055</td>\n",
       "    </tr>\n",
       "  </tbody>\n",
       "</table>\n",
       "</div>"
      ],
      "text/plain": [
       "        State  Participation_x  English  Math_x  Reading  Science  Composite  \\\n",
       "0     Alabama              100     18.9    18.4     19.7     19.4       19.2   \n",
       "1      Alaska               65     18.7    19.8     20.4     19.9       19.8   \n",
       "2     Arizona               62     18.6    19.8     20.1     19.8       19.7   \n",
       "3    Arkansas              100     18.9    19.0     19.7     19.5       19.4   \n",
       "4  California               31     22.5    22.7     23.1     22.2       22.8   \n",
       "\n",
       "   Total_x  Participation_y  Evidence=based Reading and Writing  Math_y  \\\n",
       "0     76.4                5                                 593     572   \n",
       "1     78.8               38                                 547     533   \n",
       "2     78.3               30                                 563     553   \n",
       "3     77.1                3                                 614     594   \n",
       "4     90.5               53                                 531     524   \n",
       "\n",
       "   Total_y  \n",
       "0     1165  \n",
       "1     1080  \n",
       "2     1116  \n",
       "3     1208  \n",
       "4     1055  "
      ]
     },
     "execution_count": 24,
     "metadata": {},
     "output_type": "execute_result"
    }
   ],
   "source": [
    "# Merge the dataframes into a new Total Dataframe\n",
    "df_total = pd.merge(df_act,df_sat,on='State')\n",
    "df_total.head()"
   ]
  },
  {
   "cell_type": "code",
   "execution_count": 25,
   "metadata": {},
   "outputs": [
    {
     "data": {
      "text/html": [
       "<div>\n",
       "<style scoped>\n",
       "    .dataframe tbody tr th:only-of-type {\n",
       "        vertical-align: middle;\n",
       "    }\n",
       "\n",
       "    .dataframe tbody tr th {\n",
       "        vertical-align: top;\n",
       "    }\n",
       "\n",
       "    .dataframe thead th {\n",
       "        text-align: right;\n",
       "    }\n",
       "</style>\n",
       "<table border=\"1\" class=\"dataframe\">\n",
       "  <thead>\n",
       "    <tr style=\"text-align: right;\">\n",
       "      <th></th>\n",
       "      <th>State</th>\n",
       "      <th>Participation_ACT</th>\n",
       "      <th>English_ACT</th>\n",
       "      <th>Math_ACT</th>\n",
       "      <th>Reading_ACT</th>\n",
       "      <th>Science_ACT</th>\n",
       "      <th>Composite_ACT</th>\n",
       "      <th>Total_ACT</th>\n",
       "      <th>Participation_SAT</th>\n",
       "      <th>EBRW_SAT</th>\n",
       "      <th>Math_SAT</th>\n",
       "      <th>Total_SAT</th>\n",
       "    </tr>\n",
       "  </thead>\n",
       "  <tbody>\n",
       "    <tr>\n",
       "      <th>0</th>\n",
       "      <td>Alabama</td>\n",
       "      <td>100</td>\n",
       "      <td>18.9</td>\n",
       "      <td>18.4</td>\n",
       "      <td>19.7</td>\n",
       "      <td>19.4</td>\n",
       "      <td>19.2</td>\n",
       "      <td>76.4</td>\n",
       "      <td>5</td>\n",
       "      <td>593</td>\n",
       "      <td>572</td>\n",
       "      <td>1165</td>\n",
       "    </tr>\n",
       "    <tr>\n",
       "      <th>1</th>\n",
       "      <td>Alaska</td>\n",
       "      <td>65</td>\n",
       "      <td>18.7</td>\n",
       "      <td>19.8</td>\n",
       "      <td>20.4</td>\n",
       "      <td>19.9</td>\n",
       "      <td>19.8</td>\n",
       "      <td>78.8</td>\n",
       "      <td>38</td>\n",
       "      <td>547</td>\n",
       "      <td>533</td>\n",
       "      <td>1080</td>\n",
       "    </tr>\n",
       "    <tr>\n",
       "      <th>2</th>\n",
       "      <td>Arizona</td>\n",
       "      <td>62</td>\n",
       "      <td>18.6</td>\n",
       "      <td>19.8</td>\n",
       "      <td>20.1</td>\n",
       "      <td>19.8</td>\n",
       "      <td>19.7</td>\n",
       "      <td>78.3</td>\n",
       "      <td>30</td>\n",
       "      <td>563</td>\n",
       "      <td>553</td>\n",
       "      <td>1116</td>\n",
       "    </tr>\n",
       "    <tr>\n",
       "      <th>3</th>\n",
       "      <td>Arkansas</td>\n",
       "      <td>100</td>\n",
       "      <td>18.9</td>\n",
       "      <td>19.0</td>\n",
       "      <td>19.7</td>\n",
       "      <td>19.5</td>\n",
       "      <td>19.4</td>\n",
       "      <td>77.1</td>\n",
       "      <td>3</td>\n",
       "      <td>614</td>\n",
       "      <td>594</td>\n",
       "      <td>1208</td>\n",
       "    </tr>\n",
       "    <tr>\n",
       "      <th>4</th>\n",
       "      <td>California</td>\n",
       "      <td>31</td>\n",
       "      <td>22.5</td>\n",
       "      <td>22.7</td>\n",
       "      <td>23.1</td>\n",
       "      <td>22.2</td>\n",
       "      <td>22.8</td>\n",
       "      <td>90.5</td>\n",
       "      <td>53</td>\n",
       "      <td>531</td>\n",
       "      <td>524</td>\n",
       "      <td>1055</td>\n",
       "    </tr>\n",
       "  </tbody>\n",
       "</table>\n",
       "</div>"
      ],
      "text/plain": [
       "        State  Participation_ACT  English_ACT  Math_ACT  Reading_ACT  \\\n",
       "0     Alabama                100         18.9      18.4         19.7   \n",
       "1      Alaska                 65         18.7      19.8         20.4   \n",
       "2     Arizona                 62         18.6      19.8         20.1   \n",
       "3    Arkansas                100         18.9      19.0         19.7   \n",
       "4  California                 31         22.5      22.7         23.1   \n",
       "\n",
       "   Science_ACT  Composite_ACT  Total_ACT  Participation_SAT  EBRW_SAT  \\\n",
       "0         19.4           19.2       76.4                  5       593   \n",
       "1         19.9           19.8       78.8                 38       547   \n",
       "2         19.8           19.7       78.3                 30       563   \n",
       "3         19.5           19.4       77.1                  3       614   \n",
       "4         22.2           22.8       90.5                 53       531   \n",
       "\n",
       "   Math_SAT  Total_SAT  \n",
       "0       572       1165  \n",
       "1       533       1080  \n",
       "2       553       1116  \n",
       "3       594       1208  \n",
       "4       524       1055  "
      ]
     },
     "execution_count": 25,
     "metadata": {},
     "output_type": "execute_result"
    }
   ],
   "source": [
    "# Rename ACT / SAT Columns for differentiation from Raw Data to the Working Dataset\n",
    "df_total.rename(index=str, inplace=True, columns={'Participation_x':'Participation_ACT',\n",
    "                                    'English':'English_ACT',\n",
    "                                    'Math_x':'Math_ACT',\n",
    "                                    'Reading':'Reading_ACT',\n",
    "                                    'Science':'Science_ACT',\n",
    "                                    'Composite':'Composite_ACT',\n",
    "                                    'Total_x':'Total_ACT',              \n",
    "                                    'Participation_y':'Participation_SAT',\n",
    "                                    'Evidence=based Reading and Writing':'EBRW_SAT',\n",
    "                                    'Math_y':'Math_SAT',\n",
    "                                    'Total_y':'Total_SAT'\n",
    "                                       })\n",
    "df_total.head()"
   ]
  },
  {
   "cell_type": "code",
   "execution_count": 26,
   "metadata": {},
   "outputs": [
    {
     "name": "stdout",
     "output_type": "stream",
     "text": [
      "Participation_ACT: min 8, max 100\n",
      "English_ACT: min 16.3, max 25.5\n",
      "Math_ACT: min 18.0, max 25.3\n",
      "Reading_ACT: min 18.1, max 26.0\n",
      "Science_ACT: min 18.2, max 24.9\n",
      "Composite_ACT: min 17.8, max 25.5\n",
      "Total_ACT: min 70.6, max 101.4\n",
      "Participation_SAT: min 2, max 100\n",
      "EBRW_SAT: min 482, max 644\n",
      "Math_SAT: min 468, max 651\n",
      "Total_SAT: min 950, max 1295\n"
     ]
    }
   ],
   "source": [
    "# Display both the minimum and maximum for all columns in the new dataframe\n",
    "for i in df_total.columns:\n",
    "    if df_total.dtypes[i]=='int64' or df_total.dtypes[i]=='float64':\n",
    "        print(\"{}: min {}, max {}\".format(i,min(df_total[i]),max(df_total[i])))"
   ]
  },
  {
   "cell_type": "code",
   "execution_count": 27,
   "metadata": {},
   "outputs": [],
   "source": [
    "# Load required programs \n",
    "import numpy as np"
   ]
  },
  {
   "cell_type": "code",
   "execution_count": 28,
   "metadata": {},
   "outputs": [],
   "source": [
    "# Outliers removed; Create Function for Standard Deviation and add this to a new list sd\n",
    "def my_sd(data):\n",
    "    return np.sqrt(np.mean([(x-data.mean())**2 for x in data]))"
   ]
  },
  {
   "cell_type": "code",
   "execution_count": 29,
   "metadata": {},
   "outputs": [
    {
     "data": {
      "text/plain": [
       "[31.824175751231806,\n",
       " 2.3304876369363368,\n",
       " 1.9624620273436781,\n",
       " 2.046902931484265,\n",
       " 1.7361170088327353,\n",
       " 2.0007860815819893,\n",
       " 8.017022451082516,\n",
       " 34.929070766645076,\n",
       " 45.21697020437866,\n",
       " 46.65713364485504,\n",
       " 91.58351056778743]"
      ]
     },
     "execution_count": 29,
     "metadata": {},
     "output_type": "execute_result"
    }
   ],
   "source": [
    "# Use this function to display the Standard Deviation results \n",
    "sd = []\n",
    "for i in df_total.columns:\n",
    "    if df_total.dtypes[i]=='int64' or df_total.dtypes[i]=='float64':\n",
    "        sd.append(my_sd(df_total[i]))\n",
    "sd"
   ]
  },
  {
   "cell_type": "code",
   "execution_count": 30,
   "metadata": {},
   "outputs": [
    {
     "data": {
      "text/plain": [
       "{'State': 'Standard deviation',\n",
       " 'Participation_ACT': [31.824175751231806],\n",
       " 'English_ACT': [2.3304876369363368],\n",
       " 'Math_ACT': [1.9624620273436781],\n",
       " 'Reading_ACT': [2.046902931484265],\n",
       " 'Science_ACT': [1.7361170088327353],\n",
       " 'Composite_ACT': [2.0007860815819893],\n",
       " 'Total_ACT': [8.017022451082516],\n",
       " 'Participation_SAT': [34.929070766645076],\n",
       " 'EBRW_SAT': [45.21697020437866],\n",
       " 'Math_SAT': [46.65713364485504],\n",
       " 'Total_SAT': [91.58351056778743]}"
      ]
     },
     "execution_count": 30,
     "metadata": {},
     "output_type": "execute_result"
    }
   ],
   "source": [
    "# Use the new sd list and display the results matched with Columns\n",
    "df_sd = {'State':'Standard deviation'}\n",
    "sd = []\n",
    "for i in df_total.columns:\n",
    "    if df_total.dtypes[i]=='int64' or df_total.dtypes[i]=='float64':\n",
    "        df_sd[i]=[my_sd(df_total[i])]\n",
    "df_sd"
   ]
  },
  {
   "cell_type": "code",
   "execution_count": 31,
   "metadata": {},
   "outputs": [],
   "source": [
    "# Create a new dataframe (adding the Standard Deviation data)\n",
    "df_total = df_total.append(pd.DataFrame(df_sd), ignore_index=True)"
   ]
  },
  {
   "cell_type": "code",
   "execution_count": 32,
   "metadata": {},
   "outputs": [
    {
     "data": {
      "text/html": [
       "<div>\n",
       "<style scoped>\n",
       "    .dataframe tbody tr th:only-of-type {\n",
       "        vertical-align: middle;\n",
       "    }\n",
       "\n",
       "    .dataframe tbody tr th {\n",
       "        vertical-align: top;\n",
       "    }\n",
       "\n",
       "    .dataframe thead th {\n",
       "        text-align: right;\n",
       "    }\n",
       "</style>\n",
       "<table border=\"1\" class=\"dataframe\">\n",
       "  <thead>\n",
       "    <tr style=\"text-align: right;\">\n",
       "      <th></th>\n",
       "      <th>State</th>\n",
       "      <th>Participation_ACT</th>\n",
       "      <th>English_ACT</th>\n",
       "      <th>Math_ACT</th>\n",
       "      <th>Reading_ACT</th>\n",
       "      <th>Science_ACT</th>\n",
       "      <th>Composite_ACT</th>\n",
       "      <th>Total_ACT</th>\n",
       "      <th>Participation_SAT</th>\n",
       "      <th>EBRW_SAT</th>\n",
       "      <th>Math_SAT</th>\n",
       "      <th>Total_SAT</th>\n",
       "    </tr>\n",
       "  </thead>\n",
       "  <tbody>\n",
       "    <tr>\n",
       "      <th>0</th>\n",
       "      <td>Alabama</td>\n",
       "      <td>100.0</td>\n",
       "      <td>18.9</td>\n",
       "      <td>18.4</td>\n",
       "      <td>19.7</td>\n",
       "      <td>19.4</td>\n",
       "      <td>19.2</td>\n",
       "      <td>76.4</td>\n",
       "      <td>5.0</td>\n",
       "      <td>593.0</td>\n",
       "      <td>572.0</td>\n",
       "      <td>1165.0</td>\n",
       "    </tr>\n",
       "    <tr>\n",
       "      <th>1</th>\n",
       "      <td>Alaska</td>\n",
       "      <td>65.0</td>\n",
       "      <td>18.7</td>\n",
       "      <td>19.8</td>\n",
       "      <td>20.4</td>\n",
       "      <td>19.9</td>\n",
       "      <td>19.8</td>\n",
       "      <td>78.8</td>\n",
       "      <td>38.0</td>\n",
       "      <td>547.0</td>\n",
       "      <td>533.0</td>\n",
       "      <td>1080.0</td>\n",
       "    </tr>\n",
       "    <tr>\n",
       "      <th>2</th>\n",
       "      <td>Arizona</td>\n",
       "      <td>62.0</td>\n",
       "      <td>18.6</td>\n",
       "      <td>19.8</td>\n",
       "      <td>20.1</td>\n",
       "      <td>19.8</td>\n",
       "      <td>19.7</td>\n",
       "      <td>78.3</td>\n",
       "      <td>30.0</td>\n",
       "      <td>563.0</td>\n",
       "      <td>553.0</td>\n",
       "      <td>1116.0</td>\n",
       "    </tr>\n",
       "    <tr>\n",
       "      <th>3</th>\n",
       "      <td>Arkansas</td>\n",
       "      <td>100.0</td>\n",
       "      <td>18.9</td>\n",
       "      <td>19.0</td>\n",
       "      <td>19.7</td>\n",
       "      <td>19.5</td>\n",
       "      <td>19.4</td>\n",
       "      <td>77.1</td>\n",
       "      <td>3.0</td>\n",
       "      <td>614.0</td>\n",
       "      <td>594.0</td>\n",
       "      <td>1208.0</td>\n",
       "    </tr>\n",
       "    <tr>\n",
       "      <th>4</th>\n",
       "      <td>California</td>\n",
       "      <td>31.0</td>\n",
       "      <td>22.5</td>\n",
       "      <td>22.7</td>\n",
       "      <td>23.1</td>\n",
       "      <td>22.2</td>\n",
       "      <td>22.8</td>\n",
       "      <td>90.5</td>\n",
       "      <td>53.0</td>\n",
       "      <td>531.0</td>\n",
       "      <td>524.0</td>\n",
       "      <td>1055.0</td>\n",
       "    </tr>\n",
       "  </tbody>\n",
       "</table>\n",
       "</div>"
      ],
      "text/plain": [
       "        State  Participation_ACT  English_ACT  Math_ACT  Reading_ACT  \\\n",
       "0     Alabama              100.0         18.9      18.4         19.7   \n",
       "1      Alaska               65.0         18.7      19.8         20.4   \n",
       "2     Arizona               62.0         18.6      19.8         20.1   \n",
       "3    Arkansas              100.0         18.9      19.0         19.7   \n",
       "4  California               31.0         22.5      22.7         23.1   \n",
       "\n",
       "   Science_ACT  Composite_ACT  Total_ACT  Participation_SAT  EBRW_SAT  \\\n",
       "0         19.4           19.2       76.4                5.0     593.0   \n",
       "1         19.9           19.8       78.8               38.0     547.0   \n",
       "2         19.8           19.7       78.3               30.0     563.0   \n",
       "3         19.5           19.4       77.1                3.0     614.0   \n",
       "4         22.2           22.8       90.5               53.0     531.0   \n",
       "\n",
       "   Math_SAT  Total_SAT  \n",
       "0     572.0     1165.0  \n",
       "1     533.0     1080.0  \n",
       "2     553.0     1116.0  \n",
       "3     594.0     1208.0  \n",
       "4     524.0     1055.0  "
      ]
     },
     "execution_count": 32,
     "metadata": {},
     "output_type": "execute_result"
    }
   ],
   "source": [
    "# Confirm this new dataframe works \n",
    "df_total.head()"
   ]
  },
  {
   "cell_type": "code",
   "execution_count": 33,
   "metadata": {},
   "outputs": [
    {
     "data": {
      "text/html": [
       "<div>\n",
       "<style scoped>\n",
       "    .dataframe tbody tr th:only-of-type {\n",
       "        vertical-align: middle;\n",
       "    }\n",
       "\n",
       "    .dataframe tbody tr th {\n",
       "        vertical-align: top;\n",
       "    }\n",
       "\n",
       "    .dataframe thead th {\n",
       "        text-align: right;\n",
       "    }\n",
       "</style>\n",
       "<table border=\"1\" class=\"dataframe\">\n",
       "  <thead>\n",
       "    <tr style=\"text-align: right;\">\n",
       "      <th></th>\n",
       "      <th>State</th>\n",
       "      <th>Participation_ACT</th>\n",
       "      <th>English_ACT</th>\n",
       "      <th>Math_ACT</th>\n",
       "      <th>Reading_ACT</th>\n",
       "      <th>Science_ACT</th>\n",
       "      <th>Composite_ACT</th>\n",
       "      <th>Total_ACT</th>\n",
       "      <th>Participation_SAT</th>\n",
       "      <th>EBRW_SAT</th>\n",
       "      <th>Math_SAT</th>\n",
       "      <th>Total_SAT</th>\n",
       "    </tr>\n",
       "  </thead>\n",
       "  <tbody>\n",
       "    <tr>\n",
       "      <th>47</th>\n",
       "      <td>Washington</td>\n",
       "      <td>29.000000</td>\n",
       "      <td>20.900000</td>\n",
       "      <td>21.900000</td>\n",
       "      <td>22.100000</td>\n",
       "      <td>22.000000</td>\n",
       "      <td>21.900000</td>\n",
       "      <td>86.900000</td>\n",
       "      <td>64.000000</td>\n",
       "      <td>541.00000</td>\n",
       "      <td>534.000000</td>\n",
       "      <td>1075.000000</td>\n",
       "    </tr>\n",
       "    <tr>\n",
       "      <th>48</th>\n",
       "      <td>West Virginia</td>\n",
       "      <td>69.000000</td>\n",
       "      <td>20.000000</td>\n",
       "      <td>19.400000</td>\n",
       "      <td>21.200000</td>\n",
       "      <td>20.500000</td>\n",
       "      <td>20.400000</td>\n",
       "      <td>81.100000</td>\n",
       "      <td>14.000000</td>\n",
       "      <td>558.00000</td>\n",
       "      <td>528.000000</td>\n",
       "      <td>1086.000000</td>\n",
       "    </tr>\n",
       "    <tr>\n",
       "      <th>49</th>\n",
       "      <td>Wisconsin</td>\n",
       "      <td>100.000000</td>\n",
       "      <td>19.700000</td>\n",
       "      <td>20.400000</td>\n",
       "      <td>20.600000</td>\n",
       "      <td>20.900000</td>\n",
       "      <td>20.500000</td>\n",
       "      <td>81.600000</td>\n",
       "      <td>3.000000</td>\n",
       "      <td>642.00000</td>\n",
       "      <td>649.000000</td>\n",
       "      <td>1291.000000</td>\n",
       "    </tr>\n",
       "    <tr>\n",
       "      <th>50</th>\n",
       "      <td>Wyoming</td>\n",
       "      <td>100.000000</td>\n",
       "      <td>19.400000</td>\n",
       "      <td>19.800000</td>\n",
       "      <td>20.800000</td>\n",
       "      <td>20.600000</td>\n",
       "      <td>20.200000</td>\n",
       "      <td>80.600000</td>\n",
       "      <td>3.000000</td>\n",
       "      <td>626.00000</td>\n",
       "      <td>604.000000</td>\n",
       "      <td>1230.000000</td>\n",
       "    </tr>\n",
       "    <tr>\n",
       "      <th>51</th>\n",
       "      <td>Standard deviation</td>\n",
       "      <td>31.824176</td>\n",
       "      <td>2.330488</td>\n",
       "      <td>1.962462</td>\n",
       "      <td>2.046903</td>\n",
       "      <td>1.736117</td>\n",
       "      <td>2.000786</td>\n",
       "      <td>8.017022</td>\n",
       "      <td>34.929071</td>\n",
       "      <td>45.21697</td>\n",
       "      <td>46.657134</td>\n",
       "      <td>91.583511</td>\n",
       "    </tr>\n",
       "  </tbody>\n",
       "</table>\n",
       "</div>"
      ],
      "text/plain": [
       "                 State  Participation_ACT  English_ACT   Math_ACT  \\\n",
       "47          Washington          29.000000    20.900000  21.900000   \n",
       "48       West Virginia          69.000000    20.000000  19.400000   \n",
       "49           Wisconsin         100.000000    19.700000  20.400000   \n",
       "50             Wyoming         100.000000    19.400000  19.800000   \n",
       "51  Standard deviation          31.824176     2.330488   1.962462   \n",
       "\n",
       "    Reading_ACT  Science_ACT  Composite_ACT  Total_ACT  Participation_SAT  \\\n",
       "47    22.100000    22.000000      21.900000  86.900000          64.000000   \n",
       "48    21.200000    20.500000      20.400000  81.100000          14.000000   \n",
       "49    20.600000    20.900000      20.500000  81.600000           3.000000   \n",
       "50    20.800000    20.600000      20.200000  80.600000           3.000000   \n",
       "51     2.046903     1.736117       2.000786   8.017022          34.929071   \n",
       "\n",
       "     EBRW_SAT    Math_SAT    Total_SAT  \n",
       "47  541.00000  534.000000  1075.000000  \n",
       "48  558.00000  528.000000  1086.000000  \n",
       "49  642.00000  649.000000  1291.000000  \n",
       "50  626.00000  604.000000  1230.000000  \n",
       "51   45.21697   46.657134    91.583511  "
      ]
     },
     "execution_count": 33,
     "metadata": {},
     "output_type": "execute_result"
    }
   ],
   "source": [
    "df_total.tail()"
   ]
  },
  {
   "cell_type": "code",
   "execution_count": 34,
   "metadata": {},
   "outputs": [],
   "source": [
    "# Clean-up the new dataframe \n",
    "df_total.drop(51,inplace=True)"
   ]
  },
  {
   "cell_type": "code",
   "execution_count": 35,
   "metadata": {},
   "outputs": [
    {
     "data": {
      "text/html": [
       "<div>\n",
       "<style scoped>\n",
       "    .dataframe tbody tr th:only-of-type {\n",
       "        vertical-align: middle;\n",
       "    }\n",
       "\n",
       "    .dataframe tbody tr th {\n",
       "        vertical-align: top;\n",
       "    }\n",
       "\n",
       "    .dataframe thead th {\n",
       "        text-align: right;\n",
       "    }\n",
       "</style>\n",
       "<table border=\"1\" class=\"dataframe\">\n",
       "  <thead>\n",
       "    <tr style=\"text-align: right;\">\n",
       "      <th></th>\n",
       "      <th>State</th>\n",
       "      <th>Participation_ACT</th>\n",
       "      <th>English_ACT</th>\n",
       "      <th>Math_ACT</th>\n",
       "      <th>Reading_ACT</th>\n",
       "      <th>Science_ACT</th>\n",
       "      <th>Composite_ACT</th>\n",
       "      <th>Total_ACT</th>\n",
       "      <th>Participation_SAT</th>\n",
       "      <th>EBRW_SAT</th>\n",
       "      <th>Math_SAT</th>\n",
       "      <th>Total_SAT</th>\n",
       "    </tr>\n",
       "  </thead>\n",
       "  <tbody>\n",
       "    <tr>\n",
       "      <th>19</th>\n",
       "      <td>Maine</td>\n",
       "      <td>8.0</td>\n",
       "      <td>24.2</td>\n",
       "      <td>24.0</td>\n",
       "      <td>24.8</td>\n",
       "      <td>23.7</td>\n",
       "      <td>24.3</td>\n",
       "      <td>96.7</td>\n",
       "      <td>95.0</td>\n",
       "      <td>513.0</td>\n",
       "      <td>499.0</td>\n",
       "      <td>1012.0</td>\n",
       "    </tr>\n",
       "    <tr>\n",
       "      <th>29</th>\n",
       "      <td>New Hampshire</td>\n",
       "      <td>18.0</td>\n",
       "      <td>25.4</td>\n",
       "      <td>25.1</td>\n",
       "      <td>26.0</td>\n",
       "      <td>24.9</td>\n",
       "      <td>25.5</td>\n",
       "      <td>101.4</td>\n",
       "      <td>96.0</td>\n",
       "      <td>532.0</td>\n",
       "      <td>520.0</td>\n",
       "      <td>1052.0</td>\n",
       "    </tr>\n",
       "    <tr>\n",
       "      <th>7</th>\n",
       "      <td>Delaware</td>\n",
       "      <td>18.0</td>\n",
       "      <td>24.1</td>\n",
       "      <td>23.4</td>\n",
       "      <td>24.8</td>\n",
       "      <td>23.6</td>\n",
       "      <td>24.1</td>\n",
       "      <td>95.9</td>\n",
       "      <td>100.0</td>\n",
       "      <td>503.0</td>\n",
       "      <td>492.0</td>\n",
       "      <td>996.0</td>\n",
       "    </tr>\n",
       "    <tr>\n",
       "      <th>39</th>\n",
       "      <td>Rhode Island</td>\n",
       "      <td>21.0</td>\n",
       "      <td>24.0</td>\n",
       "      <td>23.3</td>\n",
       "      <td>24.7</td>\n",
       "      <td>23.4</td>\n",
       "      <td>24.0</td>\n",
       "      <td>95.4</td>\n",
       "      <td>71.0</td>\n",
       "      <td>539.0</td>\n",
       "      <td>524.0</td>\n",
       "      <td>1062.0</td>\n",
       "    </tr>\n",
       "    <tr>\n",
       "      <th>38</th>\n",
       "      <td>Pennsylvania</td>\n",
       "      <td>23.0</td>\n",
       "      <td>23.4</td>\n",
       "      <td>23.4</td>\n",
       "      <td>24.2</td>\n",
       "      <td>23.3</td>\n",
       "      <td>23.7</td>\n",
       "      <td>94.3</td>\n",
       "      <td>65.0</td>\n",
       "      <td>540.0</td>\n",
       "      <td>531.0</td>\n",
       "      <td>1071.0</td>\n",
       "    </tr>\n",
       "  </tbody>\n",
       "</table>\n",
       "</div>"
      ],
      "text/plain": [
       "            State  Participation_ACT  English_ACT  Math_ACT  Reading_ACT  \\\n",
       "19          Maine                8.0         24.2      24.0         24.8   \n",
       "29  New Hampshire               18.0         25.4      25.1         26.0   \n",
       "7        Delaware               18.0         24.1      23.4         24.8   \n",
       "39   Rhode Island               21.0         24.0      23.3         24.7   \n",
       "38   Pennsylvania               23.0         23.4      23.4         24.2   \n",
       "\n",
       "    Science_ACT  Composite_ACT  Total_ACT  Participation_SAT  EBRW_SAT  \\\n",
       "19         23.7           24.3       96.7               95.0     513.0   \n",
       "29         24.9           25.5      101.4               96.0     532.0   \n",
       "7          23.6           24.1       95.9              100.0     503.0   \n",
       "39         23.4           24.0       95.4               71.0     539.0   \n",
       "38         23.3           23.7       94.3               65.0     540.0   \n",
       "\n",
       "    Math_SAT  Total_SAT  \n",
       "19     499.0     1012.0  \n",
       "29     520.0     1052.0  \n",
       "7      492.0      996.0  \n",
       "39     524.0     1062.0  \n",
       "38     531.0     1071.0  "
      ]
     },
     "execution_count": 35,
     "metadata": {},
     "output_type": "execute_result"
    }
   ],
   "source": [
    "# Sort the values within the dataframe numerically for ACT participation in descending order  \n",
    "df_total.sort_values(['Participation_ACT'],inplace=True)\n",
    "df_total.head()"
   ]
  },
  {
   "cell_type": "code",
   "execution_count": 36,
   "metadata": {},
   "outputs": [
    {
     "data": {
      "text/html": [
       "<div>\n",
       "<style scoped>\n",
       "    .dataframe tbody tr th:only-of-type {\n",
       "        vertical-align: middle;\n",
       "    }\n",
       "\n",
       "    .dataframe tbody tr th {\n",
       "        vertical-align: top;\n",
       "    }\n",
       "\n",
       "    .dataframe thead th {\n",
       "        text-align: right;\n",
       "    }\n",
       "</style>\n",
       "<table border=\"1\" class=\"dataframe\">\n",
       "  <thead>\n",
       "    <tr style=\"text-align: right;\">\n",
       "      <th></th>\n",
       "      <th>State</th>\n",
       "      <th>Participation_ACT</th>\n",
       "      <th>English_ACT</th>\n",
       "      <th>Math_ACT</th>\n",
       "      <th>Reading_ACT</th>\n",
       "      <th>Science_ACT</th>\n",
       "      <th>Composite_ACT</th>\n",
       "      <th>Total_ACT</th>\n",
       "      <th>Participation_SAT</th>\n",
       "      <th>EBRW_SAT</th>\n",
       "      <th>Math_SAT</th>\n",
       "      <th>Total_SAT</th>\n",
       "    </tr>\n",
       "  </thead>\n",
       "  <tbody>\n",
       "    <tr>\n",
       "      <th>0</th>\n",
       "      <td>Alabama</td>\n",
       "      <td>100.0</td>\n",
       "      <td>18.9</td>\n",
       "      <td>18.4</td>\n",
       "      <td>19.7</td>\n",
       "      <td>19.4</td>\n",
       "      <td>19.2</td>\n",
       "      <td>76.4</td>\n",
       "      <td>5.0</td>\n",
       "      <td>593.0</td>\n",
       "      <td>572.0</td>\n",
       "      <td>1165.0</td>\n",
       "    </tr>\n",
       "    <tr>\n",
       "      <th>1</th>\n",
       "      <td>Alaska</td>\n",
       "      <td>65.0</td>\n",
       "      <td>18.7</td>\n",
       "      <td>19.8</td>\n",
       "      <td>20.4</td>\n",
       "      <td>19.9</td>\n",
       "      <td>19.8</td>\n",
       "      <td>78.8</td>\n",
       "      <td>38.0</td>\n",
       "      <td>547.0</td>\n",
       "      <td>533.0</td>\n",
       "      <td>1080.0</td>\n",
       "    </tr>\n",
       "    <tr>\n",
       "      <th>2</th>\n",
       "      <td>Arizona</td>\n",
       "      <td>62.0</td>\n",
       "      <td>18.6</td>\n",
       "      <td>19.8</td>\n",
       "      <td>20.1</td>\n",
       "      <td>19.8</td>\n",
       "      <td>19.7</td>\n",
       "      <td>78.3</td>\n",
       "      <td>30.0</td>\n",
       "      <td>563.0</td>\n",
       "      <td>553.0</td>\n",
       "      <td>1116.0</td>\n",
       "    </tr>\n",
       "    <tr>\n",
       "      <th>3</th>\n",
       "      <td>Arkansas</td>\n",
       "      <td>100.0</td>\n",
       "      <td>18.9</td>\n",
       "      <td>19.0</td>\n",
       "      <td>19.7</td>\n",
       "      <td>19.5</td>\n",
       "      <td>19.4</td>\n",
       "      <td>77.1</td>\n",
       "      <td>3.0</td>\n",
       "      <td>614.0</td>\n",
       "      <td>594.0</td>\n",
       "      <td>1208.0</td>\n",
       "    </tr>\n",
       "    <tr>\n",
       "      <th>4</th>\n",
       "      <td>California</td>\n",
       "      <td>31.0</td>\n",
       "      <td>22.5</td>\n",
       "      <td>22.7</td>\n",
       "      <td>23.1</td>\n",
       "      <td>22.2</td>\n",
       "      <td>22.8</td>\n",
       "      <td>90.5</td>\n",
       "      <td>53.0</td>\n",
       "      <td>531.0</td>\n",
       "      <td>524.0</td>\n",
       "      <td>1055.0</td>\n",
       "    </tr>\n",
       "  </tbody>\n",
       "</table>\n",
       "</div>"
      ],
      "text/plain": [
       "        State  Participation_ACT  English_ACT  Math_ACT  Reading_ACT  \\\n",
       "0     Alabama              100.0         18.9      18.4         19.7   \n",
       "1      Alaska               65.0         18.7      19.8         20.4   \n",
       "2     Arizona               62.0         18.6      19.8         20.1   \n",
       "3    Arkansas              100.0         18.9      19.0         19.7   \n",
       "4  California               31.0         22.5      22.7         23.1   \n",
       "\n",
       "   Science_ACT  Composite_ACT  Total_ACT  Participation_SAT  EBRW_SAT  \\\n",
       "0         19.4           19.2       76.4                5.0     593.0   \n",
       "1         19.9           19.8       78.8               38.0     547.0   \n",
       "2         19.8           19.7       78.3               30.0     563.0   \n",
       "3         19.5           19.4       77.1                3.0     614.0   \n",
       "4         22.2           22.8       90.5               53.0     531.0   \n",
       "\n",
       "   Math_SAT  Total_SAT  \n",
       "0     572.0     1165.0  \n",
       "1     533.0     1080.0  \n",
       "2     553.0     1116.0  \n",
       "3     594.0     1208.0  \n",
       "4     524.0     1055.0  "
      ]
     },
     "execution_count": 36,
     "metadata": {},
     "output_type": "execute_result"
    }
   ],
   "source": [
    "# Sorting the dataframe by Index  \n",
    "df_total.sort_index(inplace = True)\n",
    "df_total.head()"
   ]
  },
  {
   "cell_type": "code",
   "execution_count": 37,
   "metadata": {},
   "outputs": [
    {
     "data": {
      "text/html": [
       "<div>\n",
       "<style scoped>\n",
       "    .dataframe tbody tr th:only-of-type {\n",
       "        vertical-align: middle;\n",
       "    }\n",
       "\n",
       "    .dataframe tbody tr th {\n",
       "        vertical-align: top;\n",
       "    }\n",
       "\n",
       "    .dataframe thead th {\n",
       "        text-align: right;\n",
       "    }\n",
       "</style>\n",
       "<table border=\"1\" class=\"dataframe\">\n",
       "  <thead>\n",
       "    <tr style=\"text-align: right;\">\n",
       "      <th></th>\n",
       "      <th>State</th>\n",
       "      <th>Participation_ACT</th>\n",
       "      <th>English_ACT</th>\n",
       "      <th>Math_ACT</th>\n",
       "      <th>Reading_ACT</th>\n",
       "      <th>Science_ACT</th>\n",
       "      <th>Composite_ACT</th>\n",
       "      <th>Total_ACT</th>\n",
       "      <th>Participation_SAT</th>\n",
       "      <th>EBRW_SAT</th>\n",
       "      <th>Math_SAT</th>\n",
       "      <th>Total_SAT</th>\n",
       "    </tr>\n",
       "  </thead>\n",
       "  <tbody>\n",
       "    <tr>\n",
       "      <th>13</th>\n",
       "      <td>Illinois</td>\n",
       "      <td>93.0</td>\n",
       "      <td>21.0</td>\n",
       "      <td>21.2</td>\n",
       "      <td>21.6</td>\n",
       "      <td>21.3</td>\n",
       "      <td>21.4</td>\n",
       "      <td>85.1</td>\n",
       "      <td>9.0</td>\n",
       "      <td>559.0</td>\n",
       "      <td>556.0</td>\n",
       "      <td>1115.0</td>\n",
       "    </tr>\n",
       "    <tr>\n",
       "      <th>15</th>\n",
       "      <td>Iowa</td>\n",
       "      <td>67.0</td>\n",
       "      <td>21.2</td>\n",
       "      <td>21.3</td>\n",
       "      <td>22.6</td>\n",
       "      <td>22.1</td>\n",
       "      <td>21.9</td>\n",
       "      <td>87.2</td>\n",
       "      <td>2.0</td>\n",
       "      <td>641.0</td>\n",
       "      <td>635.0</td>\n",
       "      <td>1275.0</td>\n",
       "    </tr>\n",
       "    <tr>\n",
       "      <th>16</th>\n",
       "      <td>Kansas</td>\n",
       "      <td>73.0</td>\n",
       "      <td>21.1</td>\n",
       "      <td>21.3</td>\n",
       "      <td>22.3</td>\n",
       "      <td>21.7</td>\n",
       "      <td>21.7</td>\n",
       "      <td>86.4</td>\n",
       "      <td>4.0</td>\n",
       "      <td>632.0</td>\n",
       "      <td>628.0</td>\n",
       "      <td>1260.0</td>\n",
       "    </tr>\n",
       "    <tr>\n",
       "      <th>23</th>\n",
       "      <td>Minnesota</td>\n",
       "      <td>100.0</td>\n",
       "      <td>20.4</td>\n",
       "      <td>21.5</td>\n",
       "      <td>21.8</td>\n",
       "      <td>21.6</td>\n",
       "      <td>21.5</td>\n",
       "      <td>85.3</td>\n",
       "      <td>3.0</td>\n",
       "      <td>644.0</td>\n",
       "      <td>651.0</td>\n",
       "      <td>1295.0</td>\n",
       "    </tr>\n",
       "    <tr>\n",
       "      <th>35</th>\n",
       "      <td>Ohio</td>\n",
       "      <td>75.0</td>\n",
       "      <td>21.2</td>\n",
       "      <td>21.6</td>\n",
       "      <td>22.5</td>\n",
       "      <td>22.0</td>\n",
       "      <td>22.0</td>\n",
       "      <td>87.3</td>\n",
       "      <td>12.0</td>\n",
       "      <td>578.0</td>\n",
       "      <td>570.0</td>\n",
       "      <td>1149.0</td>\n",
       "    </tr>\n",
       "    <tr>\n",
       "      <th>41</th>\n",
       "      <td>South Dakota</td>\n",
       "      <td>80.0</td>\n",
       "      <td>20.7</td>\n",
       "      <td>21.5</td>\n",
       "      <td>22.3</td>\n",
       "      <td>22.0</td>\n",
       "      <td>21.8</td>\n",
       "      <td>86.5</td>\n",
       "      <td>3.0</td>\n",
       "      <td>612.0</td>\n",
       "      <td>603.0</td>\n",
       "      <td>1216.0</td>\n",
       "    </tr>\n",
       "  </tbody>\n",
       "</table>\n",
       "</div>"
      ],
      "text/plain": [
       "           State  Participation_ACT  English_ACT  Math_ACT  Reading_ACT  \\\n",
       "13      Illinois               93.0         21.0      21.2         21.6   \n",
       "15          Iowa               67.0         21.2      21.3         22.6   \n",
       "16        Kansas               73.0         21.1      21.3         22.3   \n",
       "23     Minnesota              100.0         20.4      21.5         21.8   \n",
       "35          Ohio               75.0         21.2      21.6         22.5   \n",
       "41  South Dakota               80.0         20.7      21.5         22.3   \n",
       "\n",
       "    Science_ACT  Composite_ACT  Total_ACT  Participation_SAT  EBRW_SAT  \\\n",
       "13         21.3           21.4       85.1                9.0     559.0   \n",
       "15         22.1           21.9       87.2                2.0     641.0   \n",
       "16         21.7           21.7       86.4                4.0     632.0   \n",
       "23         21.6           21.5       85.3                3.0     644.0   \n",
       "35         22.0           22.0       87.3               12.0     578.0   \n",
       "41         22.0           21.8       86.5                3.0     612.0   \n",
       "\n",
       "    Math_SAT  Total_SAT  \n",
       "13     556.0     1115.0  \n",
       "15     635.0     1275.0  \n",
       "16     628.0     1260.0  \n",
       "23     651.0     1295.0  \n",
       "35     570.0     1149.0  \n",
       "41     603.0     1216.0  "
      ]
     },
     "execution_count": 37,
     "metadata": {},
     "output_type": "execute_result"
    }
   ],
   "source": [
    "# Create a Boolean filter to sort based on participation rates and above X for ACT Math score \n",
    "df_total[(df_total['Participation_ACT']>65)&(df_total['Math_ACT']>21)]"
   ]
  },
  {
   "cell_type": "code",
   "execution_count": 38,
   "metadata": {},
   "outputs": [
    {
     "data": {
      "text/plain": [
       "<AxesSubplot:title={'center':'Participation, SAT'}, ylabel='Frequency'>"
      ]
     },
     "execution_count": 38,
     "metadata": {},
     "output_type": "execute_result"
    },
    {
     "data": {
      "image/png": "[encoded data removed]",
      "text/plain": [
       "<Figure size 1152x504 with 2 Axes>"
      ]
     },
     "metadata": {
      "needs_background": "light"
     },
     "output_type": "display_data"
    }
   ],
   "source": [
    "# Plot ACT and SAT Participation results visually \n",
    "figure,ax = plt.subplots(nrows=1,ncols=2,figsize=(16,7))\n",
    "df_total['Participation_ACT'].plot(ax=ax[0],title=\"Participation, ACT\",kind='hist')\n",
    "df_total['Participation_SAT'].plot(ax=ax[1],title=\"Participation, SAT\",kind='hist')"
   ]
  },
  {
   "cell_type": "code",
   "execution_count": 39,
   "metadata": {},
   "outputs": [
    {
     "data": {
      "text/plain": [
       "Text(0.5, 1.0, 'Math, comparing')"
      ]
     },
     "execution_count": 39,
     "metadata": {},
     "output_type": "execute_result"
    },
    {
     "data": {
      "image/png": "[encoded data removed]",
      "text/plain": [
       "<Figure size 1152x360 with 3 Axes>"
      ]
     },
     "metadata": {
      "needs_background": "light"
     },
     "output_type": "display_data"
    }
   ],
   "source": [
    "# Plot ACT and SAT Math results visually \n",
    "figure,ax = plt.subplots(nrows=1,ncols=3,figsize=(16,5))\n",
    "df_total['Math_ACT'].plot(ax=ax[0],title=\"Math, ACT\",kind='hist')\n",
    "df_total['Math_SAT'].plot(ax=ax[1],title=\"Math, SAT\",kind='hist')\n",
    "plt.scatter(df_total['Math_ACT'],df_total['Math_SAT'])\n",
    "plt.ylabel('SAT')\n",
    "plt.xlabel('ACT')\n",
    "plt.title('Math, comparing')"
   ]
  },
  {
   "cell_type": "markdown",
   "metadata": {},
   "source": [
    "### Insights -  \n",
    "#### No real correlation between the results for the Math ACT and the Math SAT tests\n",
    "##### This could be attributable to something as simple as how the datasets were compiled or to something more complex such as rural versus urban students; ethnicity; gender; race; their core curriculum and respective state's requirements, etc. "
   ]
  },
  {
   "cell_type": "code",
   "execution_count": 40,
   "metadata": {},
   "outputs": [
    {
     "data": {
      "text/plain": [
       "Index(['State', 'Participation_ACT', 'English_ACT', 'Math_ACT', 'Reading_ACT',\n",
       "       'Science_ACT', 'Composite_ACT', 'Total_ACT', 'Participation_SAT',\n",
       "       'EBRW_SAT', 'Math_SAT', 'Total_SAT'],\n",
       "      dtype='object')"
      ]
     },
     "execution_count": 40,
     "metadata": {},
     "output_type": "execute_result"
    }
   ],
   "source": [
    "# Recheck the Dataframe Columns \n",
    "df_total.columns"
   ]
  },
  {
   "cell_type": "code",
   "execution_count": 41,
   "metadata": {},
   "outputs": [
    {
     "data": {
      "text/plain": [
       "Text(0.5, 1.0, 'English, comparing')"
      ]
     },
     "execution_count": 41,
     "metadata": {},
     "output_type": "execute_result"
    },
    {
     "data": {
      "image/png": "[encoded data removed]",
      "text/plain": [
       "<Figure size 1152x360 with 3 Axes>"
      ]
     },
     "metadata": {
      "needs_background": "light"
     },
     "output_type": "display_data"
    }
   ],
   "source": [
    "# Continue plotting ACT and SAT Test results \n",
    "figure,ax = plt.subplots(nrows=1,ncols=3,figsize=(16,5))\n",
    "df_total['English_ACT'].plot(ax=ax[0],title=\"English, ACT\",kind='hist')\n",
    "df_total['EBRW_SAT'].plot(ax=ax[1],title=\"Evidence based Reading and Writing, SAT\",kind='hist')\n",
    "plt.scatter(df_total['English_ACT'],df_total['EBRW_SAT'])\n",
    "plt.ylabel('SAT')\n",
    "plt.xlabel('ACT')\n",
    "plt.title('English, comparing')"
   ]
  },
  {
   "cell_type": "code",
   "execution_count": 42,
   "metadata": {},
   "outputs": [
    {
     "data": {
      "image/png": "[encoded data removed]",
      "text/plain": [
       "<Figure size 432x288 with 1 Axes>"
      ]
     },
     "metadata": {
      "needs_background": "light"
     },
     "output_type": "display_data"
    },
    {
     "data": {
      "image/png": "[encoded data removed]",
      "text/plain": [
       "<Figure size 432x288 with 1 Axes>"
      ]
     },
     "metadata": {
      "needs_background": "light"
     },
     "output_type": "display_data"
    }
   ],
   "source": [
    "# Check ACT and SAT data distribution  \n",
    "plt.scatter(df_act['Participation'],df_act['Total'])\n",
    "plt.ylabel('Total')\n",
    "plt.xlabel('Participation')\n",
    "plt.title('ACT (corr = -0.856612)')\n",
    "plt.show()\n",
    "\n",
    "plt.scatter(df_sat['Participation'],df_sat['Total'])\n",
    "plt.ylabel('Total')\n",
    "plt.xlabel('Participation')\n",
    "plt.title('SAT (corr = -0.867540)')\n",
    "plt.show()"
   ]
  },
  {
   "cell_type": "code",
   "execution_count": 43,
   "metadata": {},
   "outputs": [
    {
     "data": {
      "text/plain": [
       "<seaborn.axisgrid.PairGrid at 0x7fa082536cd0>"
      ]
     },
     "execution_count": 43,
     "metadata": {},
     "output_type": "execute_result"
    },
    {
     "data": {
      "image/png": "[encoded data removed]",
      "text/plain": [
       "<Figure size 1260x1260 with 56 Axes>"
      ]
     },
     "metadata": {
      "needs_background": "light"
     },
     "output_type": "display_data"
    }
   ],
   "source": [
    "# Plot the ACT test results  \n",
    "sns.pairplot(data=df_act)"
   ]
  },
  {
   "cell_type": "code",
   "execution_count": 44,
   "metadata": {
    "scrolled": true
   },
   "outputs": [
    {
     "data": {
      "text/plain": [
       "<seaborn.axisgrid.PairGrid at 0x7fa083d7f850>"
      ]
     },
     "execution_count": 44,
     "metadata": {},
     "output_type": "execute_result"
    },
    {
     "data": {
      "image/png": "[encoded data removed]",
      "text/plain": [
       "<Figure size 900x900 with 30 Axes>"
      ]
     },
     "metadata": {
      "needs_background": "light"
     },
     "output_type": "display_data"
    }
   ],
   "source": [
    "# Continue plotting the ACT test results\n",
    "sns.pairplot(data=df_act[['English','Math','Reading','Science','Total']])"
   ]
  },
  {
   "cell_type": "code",
   "execution_count": 45,
   "metadata": {},
   "outputs": [
    {
     "data": {
      "text/plain": [
       "<seaborn.axisgrid.PairGrid at 0x7fa08435b280>"
      ]
     },
     "execution_count": 45,
     "metadata": {},
     "output_type": "execute_result"
    },
    {
     "data": {
      "image/png": "[encoded data removed]",
      "text/plain": [
       "<Figure size 720x720 with 20 Axes>"
      ]
     },
     "metadata": {
      "needs_background": "light"
     },
     "output_type": "display_data"
    }
   ],
   "source": [
    "# Plot the ACT test results  \n",
    "sns.pairplot(data=df_sat)"
   ]
  },
  {
   "cell_type": "code",
   "execution_count": 60,
   "metadata": {},
   "outputs": [
    {
     "data": {
      "text/plain": [
       "<seaborn.axisgrid.PairGrid at 0x7fde0cba64c0>"
      ]
     },
     "execution_count": 60,
     "metadata": {},
     "output_type": "execute_result"
    },
    {
     "data": {
      "image/png": "[encoded data removed]",
      "text/plain": [
       "<Figure size 720x720 with 20 Axes>"
      ]
     },
     "metadata": {
      "needs_background": "light"
     },
     "output_type": "display_data"
    }
   ],
   "source": [
    "# Continue plotting the SAT test results  \n",
    "sns.pairplot(data=df_sat[['Math','Evidence=based Reading and Writing','Participation','Total']])"
   ]
  },
  {
   "cell_type": "markdown",
   "metadata": {},
   "source": [
    "### Insights - \n",
    "#### Average grades of all ACT/SAT subjects are linear\n",
    "##### This could be contributed to students focusing on preparing for standardized testing \n",
    "#### Negative correlations between participation-levels and average grades \n",
    "##### Aside from students with higher scores on one test opting-out of taking an additional test, it could also mean the results of this data was skewed because of income-disparities between wealthier students and less-wealthier students or rural versus urban test-takers and/or gender, etc.!"
   ]
  },
  {
   "cell_type": "code",
   "execution_count": 55,
   "metadata": {},
   "outputs": [
    {
     "data": {
      "image/png": "[encoded data removed]",
      "text/plain": [
       "<Figure size 1080x360 with 4 Axes>"
      ]
     },
     "metadata": {
      "needs_background": "light"
     },
     "output_type": "display_data"
    }
   ],
   "source": [
    "# Average grade(s) boxplots for each ACT Test variable \n",
    "figure,ax = plt.subplots(1, 4, sharey=True, figsize=(15, 5))\n",
    "for i,name in enumerate(df_act.columns[2:-2]):\n",
    "    sns.boxplot(data=df_act[name],ax=ax[i])"
   ]
  },
  {
   "cell_type": "code",
   "execution_count": 61,
   "metadata": {},
   "outputs": [
    {
     "data": {
      "image/png": "[encoded data removed]",
      "text/plain": [
       "<Figure size 1080x360 with 2 Axes>"
      ]
     },
     "metadata": {
      "needs_background": "light"
     },
     "output_type": "display_data"
    }
   ],
   "source": [
    "# Average grade(s) boxplots for each SAT Test variable \n",
    "figure,ax = plt.subplots(1, 2, sharey=True, figsize=(15, 5))\n",
    "for i,name in enumerate(df_sat.columns[2:-2]):\n",
    "    sns.boxplot(data=df_sat[name],ax=ax[i])"
   ]
  },
  {
   "cell_type": "code",
   "execution_count": 62,
   "metadata": {},
   "outputs": [],
   "source": [
    "# Load required program \n",
    "import scipy.stats as stats"
   ]
  },
  {
   "cell_type": "code",
   "execution_count": 63,
   "metadata": {},
   "outputs": [
    {
     "name": "stdout",
     "output_type": "stream",
     "text": [
      "Participation_ACT is NOT normally distributed; mean 65.25; std 32.14; skew -0.19\n",
      "English_ACT is NOT normally distributed; mean 20.93; std 2.35; skew 0.34\n",
      "Math_ACT is NOT normally distributed; mean 21.18; std 1.98; skew 0.32\n",
      "Reading_ACT is NOT normally distributed; mean 22.01; std 2.07; skew 0.26\n",
      "Science_ACT is NOT normally distributed; mean 21.46; std 1.75; skew 0.22\n",
      "Composite_ACT is NOT normally distributed; mean 21.52; std 2.02; skew 0.31\n",
      "Total_ACT is NOT normally distributed; mean 85.59; std 8.10; skew 0.31\n",
      "Participation_SAT is NOT normally distributed; mean 39.80; std 35.28; skew 0.34\n",
      "EBRW_SAT is NOT normally distributed; mean 569.12; std 45.67; skew 0.26\n",
      "Math_SAT is NOT normally distributed; mean 556.88; std 47.12; skew 0.35\n",
      "Total_SAT is NOT normally distributed; mean 1126.10; std 92.49; skew 0.30\n"
     ]
    }
   ],
   "source": [
    "# Function for description of the distribution of numeric values; check whether or not the distribution is normal\n",
    "def description(dataframe,column):\n",
    "    n = dataframe[column].describe()['count']\n",
    "    mean = dataframe[column].describe()['mean']\n",
    "    std = dataframe[column].describe()['std']\n",
    "    skew = stats.skew(dataframe[column])\n",
    "    dis_skew = 6*(n-1)/((n+1)*(n+3))\n",
    "    kurtosis = stats.kurtosis(dataframe[column])\n",
    "    dis_kurtosis = 24*(n-2)*(n-3)*n/((n+3)*(n+5)*(n-1)**2)\n",
    "    norm_dist = (np.abs(skew)<=np.sqrt(dis_skew)) and (np.abs(kurtosis)<=np.sqrt(dis_kurtosis))\n",
    "    print('{} is {}normally distributed; mean {:.2f}; std {:.2f}; skew {:.2f}'.format(column,\n",
    "                                                                          '' if norm_dist else 'NOT ',\n",
    "                                                                          mean,\n",
    "                                                                          std,\n",
    "                                                                          skew))\n",
    "          \n",
    "for i in df_total.columns[1:]:\n",
    "    description(df_total,i)"
   ]
  },
  {
   "cell_type": "code",
   "execution_count": 64,
   "metadata": {},
   "outputs": [
    {
     "name": "stdout",
     "output_type": "stream",
     "text": [
      "Participation_ACT is NOT normally distributed\n",
      "English_ACT is normally distributed\n",
      "Math_ACT is NOT normally distributed\n",
      "Reading_ACT is NOT normally distributed\n",
      "Science_ACT is NOT normally distributed\n",
      "Composite_ACT is NOT normally distributed\n",
      "Total_ACT is NOT normally distributed\n",
      "Participation_SAT is NOT normally distributed\n",
      "EBRW_SAT is NOT normally distributed\n",
      "Math_SAT is normally distributed\n",
      "Total_SAT is NOT normally distributed\n"
     ]
    }
   ],
   "source": [
    "# Simplified version of the previous step \n",
    "alpha = 0.05\n",
    "for i in df_total.columns[1:]:\n",
    "    print('{} is {}normally distributed'.format(i,'' if stats.normaltest(df_total[i])[1]>alpha else 'NOT '))"
   ]
  },
  {
   "cell_type": "markdown",
   "metadata": {},
   "source": [
    "### Insights -  \n",
    "#### Categorical mix between normal and not normally distributed \n",
    "##### The normal English distribution could be attributed to something as simple as studying in the American Educational System\n",
    "##### The normal Math distribution could also be attributed to the subject being compulsory and/or students studying for a Standardized-test"
   ]
  },
  {
   "cell_type": "code",
   "execution_count": 65,
   "metadata": {},
   "outputs": [
    {
     "data": {
      "text/html": [
       "<div>\n",
       "<style scoped>\n",
       "    .dataframe tbody tr th:only-of-type {\n",
       "        vertical-align: middle;\n",
       "    }\n",
       "\n",
       "    .dataframe tbody tr th {\n",
       "        vertical-align: top;\n",
       "    }\n",
       "\n",
       "    .dataframe thead th {\n",
       "        text-align: right;\n",
       "    }\n",
       "</style>\n",
       "<table border=\"1\" class=\"dataframe\">\n",
       "  <thead>\n",
       "    <tr style=\"text-align: right;\">\n",
       "      <th></th>\n",
       "      <th>Participation</th>\n",
       "      <th>English</th>\n",
       "      <th>Math</th>\n",
       "      <th>Reading</th>\n",
       "      <th>Science</th>\n",
       "      <th>Composite</th>\n",
       "      <th>Total</th>\n",
       "    </tr>\n",
       "  </thead>\n",
       "  <tbody>\n",
       "    <tr>\n",
       "      <th>Participation</th>\n",
       "      <td>1.000000</td>\n",
       "      <td>-0.841826</td>\n",
       "      <td>-0.859609</td>\n",
       "      <td>-0.864694</td>\n",
       "      <td>-0.836193</td>\n",
       "      <td>-0.856530</td>\n",
       "      <td>-0.856982</td>\n",
       "    </tr>\n",
       "    <tr>\n",
       "      <th>English</th>\n",
       "      <td>-0.841826</td>\n",
       "      <td>1.000000</td>\n",
       "      <td>0.967838</td>\n",
       "      <td>0.986012</td>\n",
       "      <td>0.979111</td>\n",
       "      <td>0.990867</td>\n",
       "      <td>0.991379</td>\n",
       "    </tr>\n",
       "    <tr>\n",
       "      <th>Math</th>\n",
       "      <td>-0.859609</td>\n",
       "      <td>0.967838</td>\n",
       "      <td>1.000000</td>\n",
       "      <td>0.979632</td>\n",
       "      <td>0.985662</td>\n",
       "      <td>0.990461</td>\n",
       "      <td>0.989691</td>\n",
       "    </tr>\n",
       "    <tr>\n",
       "      <th>Reading</th>\n",
       "      <td>-0.864694</td>\n",
       "      <td>0.986012</td>\n",
       "      <td>0.979632</td>\n",
       "      <td>1.000000</td>\n",
       "      <td>0.987369</td>\n",
       "      <td>0.995061</td>\n",
       "      <td>0.995559</td>\n",
       "    </tr>\n",
       "    <tr>\n",
       "      <th>Science</th>\n",
       "      <td>-0.836193</td>\n",
       "      <td>0.979111</td>\n",
       "      <td>0.985662</td>\n",
       "      <td>0.987369</td>\n",
       "      <td>1.000000</td>\n",
       "      <td>0.994214</td>\n",
       "      <td>0.994539</td>\n",
       "    </tr>\n",
       "    <tr>\n",
       "      <th>Composite</th>\n",
       "      <td>-0.856530</td>\n",
       "      <td>0.990867</td>\n",
       "      <td>0.990461</td>\n",
       "      <td>0.995061</td>\n",
       "      <td>0.994214</td>\n",
       "      <td>1.000000</td>\n",
       "      <td>0.999842</td>\n",
       "    </tr>\n",
       "    <tr>\n",
       "      <th>Total</th>\n",
       "      <td>-0.856982</td>\n",
       "      <td>0.991379</td>\n",
       "      <td>0.989691</td>\n",
       "      <td>0.995559</td>\n",
       "      <td>0.994539</td>\n",
       "      <td>0.999842</td>\n",
       "      <td>1.000000</td>\n",
       "    </tr>\n",
       "  </tbody>\n",
       "</table>\n",
       "</div>"
      ],
      "text/plain": [
       "               Participation   English      Math   Reading   Science  \\\n",
       "Participation       1.000000 -0.841826 -0.859609 -0.864694 -0.836193   \n",
       "English            -0.841826  1.000000  0.967838  0.986012  0.979111   \n",
       "Math               -0.859609  0.967838  1.000000  0.979632  0.985662   \n",
       "Reading            -0.864694  0.986012  0.979632  1.000000  0.987369   \n",
       "Science            -0.836193  0.979111  0.985662  0.987369  1.000000   \n",
       "Composite          -0.856530  0.990867  0.990461  0.995061  0.994214   \n",
       "Total              -0.856982  0.991379  0.989691  0.995559  0.994539   \n",
       "\n",
       "               Composite     Total  \n",
       "Participation  -0.856530 -0.856982  \n",
       "English         0.990867  0.991379  \n",
       "Math            0.990461  0.989691  \n",
       "Reading         0.995061  0.995559  \n",
       "Science         0.994214  0.994539  \n",
       "Composite       1.000000  0.999842  \n",
       "Total           0.999842  1.000000  "
      ]
     },
     "execution_count": 65,
     "metadata": {},
     "output_type": "execute_result"
    }
   ],
   "source": [
    "# Check for ACT test-results correlation \n",
    "df_act.corr()"
   ]
  },
  {
   "cell_type": "markdown",
   "metadata": {},
   "source": [
    "### Insights -\n",
    "#### Strong correlation between all ACT subjects average grade and the total score\n",
    "##### Again, this could be contributed to students focusing on preparing for standardized testing \n",
    "#### Weak correlation between ACT participation and grade\n",
    "##### Aside from students with higher scores on one test opting-out of taking an additional test, another second or third, etc. variable could be related to why this correlation is weak in this instance"
   ]
  },
  {
   "cell_type": "code",
   "execution_count": 66,
   "metadata": {},
   "outputs": [
    {
     "data": {
      "text/html": [
       "<div>\n",
       "<style scoped>\n",
       "    .dataframe tbody tr th:only-of-type {\n",
       "        vertical-align: middle;\n",
       "    }\n",
       "\n",
       "    .dataframe tbody tr th {\n",
       "        vertical-align: top;\n",
       "    }\n",
       "\n",
       "    .dataframe thead th {\n",
       "        text-align: right;\n",
       "    }\n",
       "</style>\n",
       "<table border=\"1\" class=\"dataframe\">\n",
       "  <thead>\n",
       "    <tr style=\"text-align: right;\">\n",
       "      <th></th>\n",
       "      <th>Participation</th>\n",
       "      <th>Evidence=based Reading and Writing</th>\n",
       "      <th>Math</th>\n",
       "      <th>Total</th>\n",
       "    </tr>\n",
       "  </thead>\n",
       "  <tbody>\n",
       "    <tr>\n",
       "      <th>Participation</th>\n",
       "      <td>1.000000</td>\n",
       "      <td>-0.874326</td>\n",
       "      <td>-0.855091</td>\n",
       "      <td>-0.867540</td>\n",
       "    </tr>\n",
       "    <tr>\n",
       "      <th>Evidence=based Reading and Writing</th>\n",
       "      <td>-0.874326</td>\n",
       "      <td>1.000000</td>\n",
       "      <td>0.987056</td>\n",
       "      <td>0.996661</td>\n",
       "    </tr>\n",
       "    <tr>\n",
       "      <th>Math</th>\n",
       "      <td>-0.855091</td>\n",
       "      <td>0.987056</td>\n",
       "      <td>1.000000</td>\n",
       "      <td>0.996822</td>\n",
       "    </tr>\n",
       "    <tr>\n",
       "      <th>Total</th>\n",
       "      <td>-0.867540</td>\n",
       "      <td>0.996661</td>\n",
       "      <td>0.996822</td>\n",
       "      <td>1.000000</td>\n",
       "    </tr>\n",
       "  </tbody>\n",
       "</table>\n",
       "</div>"
      ],
      "text/plain": [
       "                                    Participation  \\\n",
       "Participation                            1.000000   \n",
       "Evidence=based Reading and Writing      -0.874326   \n",
       "Math                                    -0.855091   \n",
       "Total                                   -0.867540   \n",
       "\n",
       "                                    Evidence=based Reading and Writing  \\\n",
       "Participation                                                -0.874326   \n",
       "Evidence=based Reading and Writing                            1.000000   \n",
       "Math                                                          0.987056   \n",
       "Total                                                         0.996661   \n",
       "\n",
       "                                        Math     Total  \n",
       "Participation                      -0.855091 -0.867540  \n",
       "Evidence=based Reading and Writing  0.987056  0.996661  \n",
       "Math                                1.000000  0.996822  \n",
       "Total                               0.996822  1.000000  "
      ]
     },
     "execution_count": 66,
     "metadata": {},
     "output_type": "execute_result"
    }
   ],
   "source": [
    "# Check for SAT test-results correlation \n",
    "df_sat.corr()"
   ]
  },
  {
   "cell_type": "markdown",
   "metadata": {},
   "source": [
    "### Insights -\n",
    "#### Strong correlation between all SAT subjects' average grade and the total score\n",
    "##### Again, this could be contributed to students focusing on preparing for standardized testing \n",
    "#### Weak correlation between SAT participation and grade\n",
    "##### Again, aside from students with higher scores on one test opting-out of taking an additional test, another second or third, etc. variable could be related to why this correlation is weak in this instance"
   ]
  },
  {
   "cell_type": "code",
   "execution_count": 67,
   "metadata": {},
   "outputs": [
    {
     "data": {
      "text/plain": [
       "array([[ 1.        , -0.84123446],\n",
       "       [-0.84123446,  1.        ]])"
      ]
     },
     "execution_count": 67,
     "metadata": {},
     "output_type": "execute_result"
    }
   ],
   "source": [
    "# ACT / SAT Hypothesis test (Independent populations) \n",
    "np.corrcoef(df_total['Participation_ACT'],df_total['Participation_SAT'])"
   ]
  },
  {
   "cell_type": "code",
   "execution_count": 68,
   "metadata": {},
   "outputs": [
    {
     "data": {
      "text/plain": [
       "Ttest_relResult(statistic=2.809551978370788, pvalue=0.00706192842208239)"
      ]
     },
     "execution_count": 68,
     "metadata": {},
     "output_type": "execute_result"
    }
   ],
   "source": [
    "# Negative correlation (Dependent populations)\n",
    "stats.ttest_rel(df_total['Participation_ACT'], df_total['Participation_SAT'])"
   ]
  },
  {
   "cell_type": "markdown",
   "metadata": {},
   "source": [
    "### Insights - \n",
    "#### Results indication evidence of different populations of test-takers\n",
    "##### While income might be an influence herein other factors such as rural versus urban; ethnicity; gender; race or core curriculum could all be factors herein"
   ]
  },
  {
   "cell_type": "code",
   "execution_count": 69,
   "metadata": {},
   "outputs": [
    {
     "name": "stdout",
     "output_type": "stream",
     "text": [
      "95% confidence interval for ACT participation is:18.0, 100.0\n",
      "95% confidence interval for SAT participation is:2.0, 100.0\n"
     ]
    }
   ],
   "source": [
    "# Check Confidence Intervals \n",
    "def confidence_interval(data,name,percent):\n",
    "    if percent<0 or percent>100:\n",
    "        print(\"Error! Percent must be between 0 and 100 inclusive!\")\n",
    "    else:\n",
    "        first_percentile = np.percentile(data,(100-percent)/2)\n",
    "        last_percentile = np.percentile(data,100-(100-percent)/2)\n",
    "        print('{}% confidence interval for {} is:{}, {}'.format(percent,name,first_percentile,last_percentile))\n",
    "\n",
    "confidence_interval(df_act['Participation'],'ACT participation',95) # that means that 95%    \n",
    "confidence_interval(df_sat['Participation'],'SAT participation',95)"
   ]
  },
  {
   "cell_type": "markdown",
   "metadata": {},
   "source": [
    "### Insights - \n",
    "#### Confidence Intervals are not only different but there is a discrepancy between ACT and SAT participation\n",
    "##### Again, while income might be an influence herein other factors such as rural versus urban; ethnicity; gender; race or core curriculum could all be factors herein"
   ]
  },
  {
   "cell_type": "code",
   "execution_count": 70,
   "metadata": {},
   "outputs": [
    {
     "data": {
      "text/plain": [
       "array([[ 1.        , -0.42045604],\n",
       "       [-0.42045604,  1.        ]])"
      ]
     },
     "execution_count": 70,
     "metadata": {},
     "output_type": "execute_result"
    }
   ],
   "source": [
    "# If there was not such a big discrepancy between students who took both the ACT and SAT, this analysis would \n",
    "# make the most sense to be applied within states where there are equal numbers of ACT and SAT test-takers\n",
    "np.corrcoef(df_total['Math_ACT'],df_total['Math_SAT'])"
   ]
  },
  {
   "cell_type": "code",
   "execution_count": 48,
   "metadata": {},
   "outputs": [],
   "source": [
    "# Load one additional csv file of data on 2017 US per capita income\n",
    "df_income = pd.read_csv('income.csv', encoding='utf-8-sig', low_memory = False)"
   ]
  },
  {
   "cell_type": "code",
   "execution_count": 49,
   "metadata": {},
   "outputs": [
    {
     "data": {
      "text/html": [
       "<div>\n",
       "<style scoped>\n",
       "    .dataframe tbody tr th:only-of-type {\n",
       "        vertical-align: middle;\n",
       "    }\n",
       "\n",
       "    .dataframe tbody tr th {\n",
       "        vertical-align: top;\n",
       "    }\n",
       "\n",
       "    .dataframe thead th {\n",
       "        text-align: right;\n",
       "    }\n",
       "</style>\n",
       "<table border=\"1\" class=\"dataframe\">\n",
       "  <thead>\n",
       "    <tr style=\"text-align: right;\">\n",
       "      <th></th>\n",
       "      <th>State</th>\n",
       "      <th>Income</th>\n",
       "    </tr>\n",
       "  </thead>\n",
       "  <tbody>\n",
       "    <tr>\n",
       "      <th>0</th>\n",
       "      <td>Alabama</td>\n",
       "      <td>37508</td>\n",
       "    </tr>\n",
       "    <tr>\n",
       "      <th>1</th>\n",
       "      <td>Alaska</td>\n",
       "      <td>63610</td>\n",
       "    </tr>\n",
       "    <tr>\n",
       "      <th>2</th>\n",
       "      <td>Arizona</td>\n",
       "      <td>39583</td>\n",
       "    </tr>\n",
       "    <tr>\n",
       "      <th>3</th>\n",
       "      <td>Arkansas</td>\n",
       "      <td>36714</td>\n",
       "    </tr>\n",
       "    <tr>\n",
       "      <th>4</th>\n",
       "      <td>California</td>\n",
       "      <td>60359</td>\n",
       "    </tr>\n",
       "  </tbody>\n",
       "</table>\n",
       "</div>"
      ],
      "text/plain": [
       "       State   Income\n",
       "0     Alabama   37508\n",
       "1      Alaska   63610\n",
       "2     Arizona   39583\n",
       "3    Arkansas   36714\n",
       "4  California   60359"
      ]
     },
     "execution_count": 49,
     "metadata": {},
     "output_type": "execute_result"
    }
   ],
   "source": [
    "# # Print the first five rows of this new dataframe\n",
    "df_income.head(5)"
   ]
  },
  {
   "cell_type": "code",
   "execution_count": 50,
   "metadata": {},
   "outputs": [
    {
     "data": {
      "text/html": [
       "<div>\n",
       "<style scoped>\n",
       "    .dataframe tbody tr th:only-of-type {\n",
       "        vertical-align: middle;\n",
       "    }\n",
       "\n",
       "    .dataframe tbody tr th {\n",
       "        vertical-align: top;\n",
       "    }\n",
       "\n",
       "    .dataframe thead th {\n",
       "        text-align: right;\n",
       "    }\n",
       "</style>\n",
       "<table border=\"1\" class=\"dataframe\">\n",
       "  <thead>\n",
       "    <tr style=\"text-align: right;\">\n",
       "      <th></th>\n",
       "      <th>State</th>\n",
       "      <th>Income</th>\n",
       "    </tr>\n",
       "  </thead>\n",
       "  <tbody>\n",
       "    <tr>\n",
       "      <th>46</th>\n",
       "      <td>Virginia</td>\n",
       "      <td>52124</td>\n",
       "    </tr>\n",
       "    <tr>\n",
       "      <th>47</th>\n",
       "      <td>Washington</td>\n",
       "      <td>59333</td>\n",
       "    </tr>\n",
       "    <tr>\n",
       "      <th>48</th>\n",
       "      <td>West Virginia</td>\n",
       "      <td>37353</td>\n",
       "    </tr>\n",
       "    <tr>\n",
       "      <th>49</th>\n",
       "      <td>Wisconsin</td>\n",
       "      <td>48666</td>\n",
       "    </tr>\n",
       "    <tr>\n",
       "      <th>50</th>\n",
       "      <td>Wyoming</td>\n",
       "      <td>61091</td>\n",
       "    </tr>\n",
       "  </tbody>\n",
       "</table>\n",
       "</div>"
      ],
      "text/plain": [
       "           State   Income\n",
       "46       Virginia   52124\n",
       "47     Washington   59333\n",
       "48  West Virginia   37353\n",
       "49      Wisconsin   48666\n",
       "50        Wyoming   61091"
      ]
     },
     "execution_count": 50,
     "metadata": {},
     "output_type": "execute_result"
    }
   ],
   "source": [
    "# Check Tail (Also, to Visually Check for Lower Per Capita Income)\n",
    "df_income.tail()"
   ]
  },
  {
   "cell_type": "code",
   "execution_count": 74,
   "metadata": {},
   "outputs": [
    {
     "data": {
      "text/html": [
       "<div>\n",
       "<style scoped>\n",
       "    .dataframe tbody tr th:only-of-type {\n",
       "        vertical-align: middle;\n",
       "    }\n",
       "\n",
       "    .dataframe tbody tr th {\n",
       "        vertical-align: top;\n",
       "    }\n",
       "\n",
       "    .dataframe thead th {\n",
       "        text-align: right;\n",
       "    }\n",
       "</style>\n",
       "<table border=\"1\" class=\"dataframe\">\n",
       "  <thead>\n",
       "    <tr style=\"text-align: right;\">\n",
       "      <th></th>\n",
       "      <th>State</th>\n",
       "      <th>Income</th>\n",
       "    </tr>\n",
       "  </thead>\n",
       "  <tbody>\n",
       "    <tr>\n",
       "      <th>24</th>\n",
       "      <td>Mississippi</td>\n",
       "      <td>32447</td>\n",
       "    </tr>\n",
       "    <tr>\n",
       "      <th>12</th>\n",
       "      <td>Idaho</td>\n",
       "      <td>36441</td>\n",
       "    </tr>\n",
       "    <tr>\n",
       "      <th>3</th>\n",
       "      <td>Arkansas</td>\n",
       "      <td>36714</td>\n",
       "    </tr>\n",
       "    <tr>\n",
       "      <th>48</th>\n",
       "      <td>West Virginia</td>\n",
       "      <td>37353</td>\n",
       "    </tr>\n",
       "    <tr>\n",
       "      <th>0</th>\n",
       "      <td>Alabama</td>\n",
       "      <td>37508</td>\n",
       "    </tr>\n",
       "  </tbody>\n",
       "</table>\n",
       "</div>"
      ],
      "text/plain": [
       "           State   Income\n",
       "24    Mississippi   32447\n",
       "12          Idaho   36441\n",
       "3        Arkansas   36714\n",
       "48  West Virginia   37353\n",
       "0         Alabama   37508"
      ]
     },
     "execution_count": 74,
     "metadata": {},
     "output_type": "execute_result"
    }
   ],
   "source": [
    "# Sort based on Incomes \n",
    "df_income.sort_values(['Income']).head()"
   ]
  },
  {
   "cell_type": "code",
   "execution_count": 75,
   "metadata": {},
   "outputs": [
    {
     "data": {
      "text/plain": [
       "State     object\n",
       "Income     int64\n",
       "dtype: object"
      ]
     },
     "execution_count": 75,
     "metadata": {},
     "output_type": "execute_result"
    }
   ],
   "source": [
    "# Check the data-types in this new dataframe\n",
    "df_income.dtypes"
   ]
  },
  {
   "cell_type": "code",
   "execution_count": 76,
   "metadata": {},
   "outputs": [],
   "source": [
    "# Create a new dictionary\n",
    "dict_income = df_income.to_dict()"
   ]
  },
  {
   "cell_type": "code",
   "execution_count": 79,
   "metadata": {},
   "outputs": [
    {
     "data": {
      "text/html": [
       "<div>\n",
       "<style scoped>\n",
       "    .dataframe tbody tr th:only-of-type {\n",
       "        vertical-align: middle;\n",
       "    }\n",
       "\n",
       "    .dataframe tbody tr th {\n",
       "        vertical-align: top;\n",
       "    }\n",
       "\n",
       "    .dataframe thead th {\n",
       "        text-align: right;\n",
       "    }\n",
       "</style>\n",
       "<table border=\"1\" class=\"dataframe\">\n",
       "  <thead>\n",
       "    <tr style=\"text-align: right;\">\n",
       "      <th></th>\n",
       "      <th>State</th>\n",
       "      <th>Income</th>\n",
       "    </tr>\n",
       "  </thead>\n",
       "  <tbody>\n",
       "    <tr>\n",
       "      <th>0</th>\n",
       "      <td>Alabama</td>\n",
       "      <td>37508</td>\n",
       "    </tr>\n",
       "    <tr>\n",
       "      <th>1</th>\n",
       "      <td>Alaska</td>\n",
       "      <td>63610</td>\n",
       "    </tr>\n",
       "    <tr>\n",
       "      <th>2</th>\n",
       "      <td>Arizona</td>\n",
       "      <td>39583</td>\n",
       "    </tr>\n",
       "    <tr>\n",
       "      <th>3</th>\n",
       "      <td>Arkansas</td>\n",
       "      <td>36714</td>\n",
       "    </tr>\n",
       "    <tr>\n",
       "      <th>4</th>\n",
       "      <td>California</td>\n",
       "      <td>60359</td>\n",
       "    </tr>\n",
       "  </tbody>\n",
       "</table>\n",
       "</div>"
      ],
      "text/plain": [
       "       State   Income\n",
       "0     Alabama   37508\n",
       "1      Alaska   63610\n",
       "2     Arizona   39583\n",
       "3    Arkansas   36714\n",
       "4  California   60359"
      ]
     },
     "execution_count": 79,
     "metadata": {},
     "output_type": "execute_result"
    }
   ],
   "source": [
    "# Recheck Head \n",
    "df_income.head()"
   ]
  },
  {
   "cell_type": "code",
   "execution_count": 80,
   "metadata": {},
   "outputs": [
    {
     "data": {
      "text/html": [
       "<div>\n",
       "<style scoped>\n",
       "    .dataframe tbody tr th:only-of-type {\n",
       "        vertical-align: middle;\n",
       "    }\n",
       "\n",
       "    .dataframe tbody tr th {\n",
       "        vertical-align: top;\n",
       "    }\n",
       "\n",
       "    .dataframe thead th {\n",
       "        text-align: right;\n",
       "    }\n",
       "</style>\n",
       "<table border=\"1\" class=\"dataframe\">\n",
       "  <thead>\n",
       "    <tr style=\"text-align: right;\">\n",
       "      <th></th>\n",
       "      <th>State</th>\n",
       "      <th>Income</th>\n",
       "    </tr>\n",
       "  </thead>\n",
       "  <tbody>\n",
       "    <tr>\n",
       "      <th>24</th>\n",
       "      <td>Mississippi</td>\n",
       "      <td>32447</td>\n",
       "    </tr>\n",
       "    <tr>\n",
       "      <th>12</th>\n",
       "      <td>Idaho</td>\n",
       "      <td>36441</td>\n",
       "    </tr>\n",
       "    <tr>\n",
       "      <th>3</th>\n",
       "      <td>Arkansas</td>\n",
       "      <td>36714</td>\n",
       "    </tr>\n",
       "    <tr>\n",
       "      <th>48</th>\n",
       "      <td>West Virginia</td>\n",
       "      <td>37353</td>\n",
       "    </tr>\n",
       "    <tr>\n",
       "      <th>0</th>\n",
       "      <td>Alabama</td>\n",
       "      <td>37508</td>\n",
       "    </tr>\n",
       "  </tbody>\n",
       "</table>\n",
       "</div>"
      ],
      "text/plain": [
       "           State   Income\n",
       "24    Mississippi   32447\n",
       "12          Idaho   36441\n",
       "3        Arkansas   36714\n",
       "48  West Virginia   37353\n",
       "0         Alabama   37508"
      ]
     },
     "execution_count": 80,
     "metadata": {},
     "output_type": "execute_result"
    }
   ],
   "source": [
    "# Sort this Income dataframe in descending order \n",
    "df_income.sort_values(['Income'],inplace=True)\n",
    "df_income.head()"
   ]
  },
  {
   "cell_type": "code",
   "execution_count": 84,
   "metadata": {},
   "outputs": [],
   "source": [
    "# Skipped this step but left this cell for reference \n",
    "vertical_stack = pd.concat([df_total, df_income], axis=0)"
   ]
  },
  {
   "cell_type": "code",
   "execution_count": 85,
   "metadata": {},
   "outputs": [
    {
     "data": {
      "text/html": [
       "<div>\n",
       "<style scoped>\n",
       "    .dataframe tbody tr th:only-of-type {\n",
       "        vertical-align: middle;\n",
       "    }\n",
       "\n",
       "    .dataframe tbody tr th {\n",
       "        vertical-align: top;\n",
       "    }\n",
       "\n",
       "    .dataframe thead th {\n",
       "        text-align: right;\n",
       "    }\n",
       "</style>\n",
       "<table border=\"1\" class=\"dataframe\">\n",
       "  <thead>\n",
       "    <tr style=\"text-align: right;\">\n",
       "      <th></th>\n",
       "      <th>State</th>\n",
       "      <th>Participation_ACT</th>\n",
       "      <th>English_ACT</th>\n",
       "      <th>Math_ACT</th>\n",
       "      <th>Reading_ACT</th>\n",
       "      <th>Science_ACT</th>\n",
       "      <th>Composite_ACT</th>\n",
       "      <th>Total_ACT</th>\n",
       "      <th>Participation_SAT</th>\n",
       "      <th>EBRW_SAT</th>\n",
       "      <th>Math_SAT</th>\n",
       "      <th>Total_SAT</th>\n",
       "    </tr>\n",
       "  </thead>\n",
       "  <tbody>\n",
       "    <tr>\n",
       "      <th>0</th>\n",
       "      <td>Alabama</td>\n",
       "      <td>100.0</td>\n",
       "      <td>18.9</td>\n",
       "      <td>18.4</td>\n",
       "      <td>19.7</td>\n",
       "      <td>19.4</td>\n",
       "      <td>19.2</td>\n",
       "      <td>76.4</td>\n",
       "      <td>5.0</td>\n",
       "      <td>593.0</td>\n",
       "      <td>572.0</td>\n",
       "      <td>1165.0</td>\n",
       "    </tr>\n",
       "    <tr>\n",
       "      <th>1</th>\n",
       "      <td>Alaska</td>\n",
       "      <td>65.0</td>\n",
       "      <td>18.7</td>\n",
       "      <td>19.8</td>\n",
       "      <td>20.4</td>\n",
       "      <td>19.9</td>\n",
       "      <td>19.8</td>\n",
       "      <td>78.8</td>\n",
       "      <td>38.0</td>\n",
       "      <td>547.0</td>\n",
       "      <td>533.0</td>\n",
       "      <td>1080.0</td>\n",
       "    </tr>\n",
       "    <tr>\n",
       "      <th>2</th>\n",
       "      <td>Arizona</td>\n",
       "      <td>62.0</td>\n",
       "      <td>18.6</td>\n",
       "      <td>19.8</td>\n",
       "      <td>20.1</td>\n",
       "      <td>19.8</td>\n",
       "      <td>19.7</td>\n",
       "      <td>78.3</td>\n",
       "      <td>30.0</td>\n",
       "      <td>563.0</td>\n",
       "      <td>553.0</td>\n",
       "      <td>1116.0</td>\n",
       "    </tr>\n",
       "    <tr>\n",
       "      <th>3</th>\n",
       "      <td>Arkansas</td>\n",
       "      <td>100.0</td>\n",
       "      <td>18.9</td>\n",
       "      <td>19.0</td>\n",
       "      <td>19.7</td>\n",
       "      <td>19.5</td>\n",
       "      <td>19.4</td>\n",
       "      <td>77.1</td>\n",
       "      <td>3.0</td>\n",
       "      <td>614.0</td>\n",
       "      <td>594.0</td>\n",
       "      <td>1208.0</td>\n",
       "    </tr>\n",
       "    <tr>\n",
       "      <th>4</th>\n",
       "      <td>California</td>\n",
       "      <td>31.0</td>\n",
       "      <td>22.5</td>\n",
       "      <td>22.7</td>\n",
       "      <td>23.1</td>\n",
       "      <td>22.2</td>\n",
       "      <td>22.8</td>\n",
       "      <td>90.5</td>\n",
       "      <td>53.0</td>\n",
       "      <td>531.0</td>\n",
       "      <td>524.0</td>\n",
       "      <td>1055.0</td>\n",
       "    </tr>\n",
       "  </tbody>\n",
       "</table>\n",
       "</div>"
      ],
      "text/plain": [
       "        State  Participation_ACT  English_ACT  Math_ACT  Reading_ACT  \\\n",
       "0     Alabama              100.0         18.9      18.4         19.7   \n",
       "1      Alaska               65.0         18.7      19.8         20.4   \n",
       "2     Arizona               62.0         18.6      19.8         20.1   \n",
       "3    Arkansas              100.0         18.9      19.0         19.7   \n",
       "4  California               31.0         22.5      22.7         23.1   \n",
       "\n",
       "   Science_ACT  Composite_ACT  Total_ACT  Participation_SAT  EBRW_SAT  \\\n",
       "0         19.4           19.2       76.4                5.0     593.0   \n",
       "1         19.9           19.8       78.8               38.0     547.0   \n",
       "2         19.8           19.7       78.3               30.0     563.0   \n",
       "3         19.5           19.4       77.1                3.0     614.0   \n",
       "4         22.2           22.8       90.5               53.0     531.0   \n",
       "\n",
       "   Math_SAT  Total_SAT  \n",
       "0     572.0     1165.0  \n",
       "1     533.0     1080.0  \n",
       "2     553.0     1116.0  \n",
       "3     594.0     1208.0  \n",
       "4     524.0     1055.0  "
      ]
     },
     "execution_count": 85,
     "metadata": {},
     "output_type": "execute_result"
    }
   ],
   "source": [
    "# Check the new dataframe \n",
    "df_total.head()"
   ]
  },
  {
   "cell_type": "code",
   "execution_count": 87,
   "metadata": {},
   "outputs": [],
   "source": [
    "# Stripped columns for uniformity \n",
    "df_income.columns = df_income.columns.str.strip()"
   ]
  },
  {
   "cell_type": "code",
   "execution_count": 88,
   "metadata": {},
   "outputs": [
    {
     "data": {
      "text/html": [
       "<div>\n",
       "<style scoped>\n",
       "    .dataframe tbody tr th:only-of-type {\n",
       "        vertical-align: middle;\n",
       "    }\n",
       "\n",
       "    .dataframe tbody tr th {\n",
       "        vertical-align: top;\n",
       "    }\n",
       "\n",
       "    .dataframe thead th {\n",
       "        text-align: right;\n",
       "    }\n",
       "</style>\n",
       "<table border=\"1\" class=\"dataframe\">\n",
       "  <thead>\n",
       "    <tr style=\"text-align: right;\">\n",
       "      <th></th>\n",
       "      <th>State</th>\n",
       "      <th>Income</th>\n",
       "    </tr>\n",
       "  </thead>\n",
       "  <tbody>\n",
       "    <tr>\n",
       "      <th>7</th>\n",
       "      <td>Delaware</td>\n",
       "      <td>63955</td>\n",
       "    </tr>\n",
       "    <tr>\n",
       "      <th>34</th>\n",
       "      <td>North Dakota</td>\n",
       "      <td>64911</td>\n",
       "    </tr>\n",
       "    <tr>\n",
       "      <th>32</th>\n",
       "      <td>New York</td>\n",
       "      <td>65220</td>\n",
       "    </tr>\n",
       "    <tr>\n",
       "      <th>21</th>\n",
       "      <td>Massachusetts</td>\n",
       "      <td>66500</td>\n",
       "    </tr>\n",
       "    <tr>\n",
       "      <th>8</th>\n",
       "      <td>District of Columbia</td>\n",
       "      <td>159607</td>\n",
       "    </tr>\n",
       "  </tbody>\n",
       "</table>\n",
       "</div>"
      ],
      "text/plain": [
       "                   State  Income\n",
       "7               Delaware   63955\n",
       "34          North Dakota   64911\n",
       "32              New York   65220\n",
       "21         Massachusetts   66500\n",
       "8   District of Columbia  159607"
      ]
     },
     "execution_count": 88,
     "metadata": {},
     "output_type": "execute_result"
    }
   ],
   "source": [
    "# Check Tail (Also, to Visually Check for Outliers)\n",
    "df_income.tail()"
   ]
  },
  {
   "cell_type": "code",
   "execution_count": 56,
   "metadata": {},
   "outputs": [
    {
     "data": {
      "text/plain": [
       "Index(['State', 'Participation_ACT', 'English_ACT', 'Math_ACT', 'Reading_ACT',\n",
       "       'Science_ACT', 'Composite_ACT', 'Total_ACT', 'Participation_SAT',\n",
       "       'EBRW_SAT', 'Math_SAT', 'Total_SAT'],\n",
       "      dtype='object')"
      ]
     },
     "execution_count": 56,
     "metadata": {},
     "output_type": "execute_result"
    }
   ],
   "source": [
    "# Check the Index of the previous dataframe \n",
    "df_total.columns"
   ]
  },
  {
   "cell_type": "code",
   "execution_count": 57,
   "metadata": {},
   "outputs": [
    {
     "data": {
      "text/plain": [
       "Index(['State ', 'Income'], dtype='object')"
      ]
     },
     "execution_count": 57,
     "metadata": {},
     "output_type": "execute_result"
    }
   ],
   "source": [
    "# Check the Index of the new dataframe \n",
    "df_income.columns"
   ]
  },
  {
   "cell_type": "code",
   "execution_count": 63,
   "metadata": {},
   "outputs": [
    {
     "data": {
      "text/html": [
       "<div>\n",
       "<style scoped>\n",
       "    .dataframe tbody tr th:only-of-type {\n",
       "        vertical-align: middle;\n",
       "    }\n",
       "\n",
       "    .dataframe tbody tr th {\n",
       "        vertical-align: top;\n",
       "    }\n",
       "\n",
       "    .dataframe thead th {\n",
       "        text-align: right;\n",
       "    }\n",
       "</style>\n",
       "<table border=\"1\" class=\"dataframe\">\n",
       "  <thead>\n",
       "    <tr style=\"text-align: right;\">\n",
       "      <th></th>\n",
       "      <th>State</th>\n",
       "      <th>Participation_ACT</th>\n",
       "      <th>English_ACT</th>\n",
       "      <th>Math_ACT</th>\n",
       "      <th>Reading_ACT</th>\n",
       "      <th>Science_ACT</th>\n",
       "      <th>Composite_ACT</th>\n",
       "      <th>Total_ACT</th>\n",
       "      <th>Participation_SAT</th>\n",
       "      <th>EBRW_SAT</th>\n",
       "      <th>Math_SAT</th>\n",
       "      <th>Total_SAT</th>\n",
       "      <th>State</th>\n",
       "      <th>Income</th>\n",
       "    </tr>\n",
       "  </thead>\n",
       "  <tbody>\n",
       "    <tr>\n",
       "      <th>0</th>\n",
       "      <td>Alabama</td>\n",
       "      <td>100.0</td>\n",
       "      <td>18.9</td>\n",
       "      <td>18.4</td>\n",
       "      <td>19.7</td>\n",
       "      <td>19.4</td>\n",
       "      <td>19.2</td>\n",
       "      <td>76.4</td>\n",
       "      <td>5.0</td>\n",
       "      <td>593.0</td>\n",
       "      <td>572.0</td>\n",
       "      <td>1165.0</td>\n",
       "      <td>Alabama</td>\n",
       "      <td>37508</td>\n",
       "    </tr>\n",
       "    <tr>\n",
       "      <th>1</th>\n",
       "      <td>Alaska</td>\n",
       "      <td>65.0</td>\n",
       "      <td>18.7</td>\n",
       "      <td>19.8</td>\n",
       "      <td>20.4</td>\n",
       "      <td>19.9</td>\n",
       "      <td>19.8</td>\n",
       "      <td>78.8</td>\n",
       "      <td>38.0</td>\n",
       "      <td>547.0</td>\n",
       "      <td>533.0</td>\n",
       "      <td>1080.0</td>\n",
       "      <td>Alaska</td>\n",
       "      <td>63610</td>\n",
       "    </tr>\n",
       "    <tr>\n",
       "      <th>2</th>\n",
       "      <td>Arizona</td>\n",
       "      <td>62.0</td>\n",
       "      <td>18.6</td>\n",
       "      <td>19.8</td>\n",
       "      <td>20.1</td>\n",
       "      <td>19.8</td>\n",
       "      <td>19.7</td>\n",
       "      <td>78.3</td>\n",
       "      <td>30.0</td>\n",
       "      <td>563.0</td>\n",
       "      <td>553.0</td>\n",
       "      <td>1116.0</td>\n",
       "      <td>Arizona</td>\n",
       "      <td>39583</td>\n",
       "    </tr>\n",
       "    <tr>\n",
       "      <th>3</th>\n",
       "      <td>Arkansas</td>\n",
       "      <td>100.0</td>\n",
       "      <td>18.9</td>\n",
       "      <td>19.0</td>\n",
       "      <td>19.7</td>\n",
       "      <td>19.5</td>\n",
       "      <td>19.4</td>\n",
       "      <td>77.1</td>\n",
       "      <td>3.0</td>\n",
       "      <td>614.0</td>\n",
       "      <td>594.0</td>\n",
       "      <td>1208.0</td>\n",
       "      <td>Arkansas</td>\n",
       "      <td>36714</td>\n",
       "    </tr>\n",
       "    <tr>\n",
       "      <th>4</th>\n",
       "      <td>California</td>\n",
       "      <td>31.0</td>\n",
       "      <td>22.5</td>\n",
       "      <td>22.7</td>\n",
       "      <td>23.1</td>\n",
       "      <td>22.2</td>\n",
       "      <td>22.8</td>\n",
       "      <td>90.5</td>\n",
       "      <td>53.0</td>\n",
       "      <td>531.0</td>\n",
       "      <td>524.0</td>\n",
       "      <td>1055.0</td>\n",
       "      <td>California</td>\n",
       "      <td>60359</td>\n",
       "    </tr>\n",
       "  </tbody>\n",
       "</table>\n",
       "</div>"
      ],
      "text/plain": [
       "        State  Participation_ACT  English_ACT  Math_ACT  Reading_ACT  \\\n",
       "0     Alabama              100.0         18.9      18.4         19.7   \n",
       "1      Alaska               65.0         18.7      19.8         20.4   \n",
       "2     Arizona               62.0         18.6      19.8         20.1   \n",
       "3    Arkansas              100.0         18.9      19.0         19.7   \n",
       "4  California               31.0         22.5      22.7         23.1   \n",
       "\n",
       "   Science_ACT  Composite_ACT  Total_ACT  Participation_SAT  EBRW_SAT  \\\n",
       "0         19.4           19.2       76.4                5.0     593.0   \n",
       "1         19.9           19.8       78.8               38.0     547.0   \n",
       "2         19.8           19.7       78.3               30.0     563.0   \n",
       "3         19.5           19.4       77.1                3.0     614.0   \n",
       "4         22.2           22.8       90.5               53.0     531.0   \n",
       "\n",
       "   Math_SAT  Total_SAT      State   Income  \n",
       "0     572.0     1165.0     Alabama   37508  \n",
       "1     533.0     1080.0      Alaska   63610  \n",
       "2     553.0     1116.0     Arizona   39583  \n",
       "3     594.0     1208.0    Arkansas   36714  \n",
       "4     524.0     1055.0  California   60359  "
      ]
     },
     "execution_count": 63,
     "metadata": {},
     "output_type": "execute_result"
    }
   ],
   "source": [
    "# Merge the existing dataframe with the new dataframe \n",
    "df_total = pd.merge(df_total,df_income,left_on='State',right_on='State ')\n",
    "df_total.head()"
   ]
  },
  {
   "cell_type": "code",
   "execution_count": 64,
   "metadata": {},
   "outputs": [
    {
     "data": {
      "text/plain": [
       "Index(['State ', 'Income'], dtype='object')"
      ]
     },
     "execution_count": 64,
     "metadata": {},
     "output_type": "execute_result"
    }
   ],
   "source": [
    "# Recheck new dataframe Index\n",
    "df_income.columns"
   ]
  },
  {
   "cell_type": "code",
   "execution_count": 65,
   "metadata": {},
   "outputs": [
    {
     "data": {
      "text/plain": [
       "Index(['State', 'Participation_ACT', 'English_ACT', 'Math_ACT', 'Reading_ACT',\n",
       "       'Science_ACT', 'Composite_ACT', 'Total_ACT', 'Participation_SAT',\n",
       "       'EBRW_SAT', 'Math_SAT', 'Total_SAT', 'State ', 'Income'],\n",
       "      dtype='object')"
      ]
     },
     "execution_count": 65,
     "metadata": {},
     "output_type": "execute_result"
    }
   ],
   "source": [
    "# Check new dataframe Columns\n",
    "df_total.columns"
   ]
  },
  {
   "cell_type": "code",
   "execution_count": 66,
   "metadata": {},
   "outputs": [],
   "source": [
    "# Correct minor formatting error on the second 'State' Column Header\n",
    "df_total.columns = df_total.columns.str.strip()"
   ]
  },
  {
   "cell_type": "code",
   "execution_count": 67,
   "metadata": {},
   "outputs": [
    {
     "data": {
      "text/plain": [
       "Index(['State', 'Participation_ACT', 'English_ACT', 'Math_ACT', 'Reading_ACT',\n",
       "       'Science_ACT', 'Composite_ACT', 'Total_ACT', 'Participation_SAT',\n",
       "       'EBRW_SAT', 'Math_SAT', 'Total_SAT', 'State', 'Income'],\n",
       "      dtype='object')"
      ]
     },
     "execution_count": 67,
     "metadata": {},
     "output_type": "execute_result"
    }
   ],
   "source": [
    "# Recheck to confirm correction\n",
    "df_total.columns"
   ]
  },
  {
   "cell_type": "code",
   "execution_count": 69,
   "metadata": {},
   "outputs": [],
   "source": [
    "# Load required program\n",
    "import scipy.stats as stats"
   ]
  },
  {
   "cell_type": "code",
   "execution_count": 77,
   "metadata": {},
   "outputs": [
    {
     "data": {
      "text/plain": [
       "<seaborn.axisgrid.PairGrid at 0x7fa086f4a9a0>"
      ]
     },
     "execution_count": 77,
     "metadata": {},
     "output_type": "execute_result"
    },
    {
     "data": {
      "image/png": "[encoded data removed]",
      "text/plain": [
       "<Figure size 180x180 with 2 Axes>"
      ]
     },
     "metadata": {
      "needs_background": "light"
     },
     "output_type": "display_data"
    }
   ],
   "source": [
    "# Quick check Income Column Plot\n",
    "sns.pairplot(data=df_income)"
   ]
  },
  {
   "cell_type": "code",
   "execution_count": 81,
   "metadata": {},
   "outputs": [
    {
     "data": {
      "text/plain": [
       "State                 object\n",
       "Participation_ACT    float64\n",
       "English_ACT          float64\n",
       "Math_ACT             float64\n",
       "Reading_ACT          float64\n",
       "Science_ACT          float64\n",
       "Composite_ACT        float64\n",
       "Total_ACT            float64\n",
       "Participation_SAT    float64\n",
       "EBRW_SAT             float64\n",
       "Math_SAT             float64\n",
       "Total_SAT            float64\n",
       "State                 object\n",
       "Income                 int64\n",
       "dtype: object"
      ]
     },
     "execution_count": 81,
     "metadata": {},
     "output_type": "execute_result"
    }
   ],
   "source": [
    "# Check new dataframe types\n",
    "df_total.dtypes"
   ]
  },
  {
   "cell_type": "code",
   "execution_count": 85,
   "metadata": {},
   "outputs": [
    {
     "data": {
      "text/plain": [
       "0      37508.0\n",
       "1      63610.0\n",
       "2      39583.0\n",
       "3      36714.0\n",
       "4      60359.0\n",
       "5      54026.0\n",
       "6      62633.0\n",
       "7      63955.0\n",
       "8     159607.0\n",
       "9      39842.0\n",
       "10     45925.0\n",
       "11     52869.0\n",
       "12     36441.0\n",
       "13     55102.0\n",
       "14     46427.0\n",
       "15     52284.0\n",
       "16     47435.0\n",
       "17     39277.0\n",
       "18     44372.0\n",
       "19     39521.0\n",
       "20     56375.0\n",
       "21     66500.0\n",
       "22     44201.0\n",
       "23     54805.0\n",
       "24     32447.0\n",
       "25     43036.0\n",
       "26     39833.0\n",
       "27     54654.0\n",
       "28     44812.0\n",
       "29     52509.0\n",
       "30     56776.0\n",
       "31     41619.0\n",
       "32     65220.0\n",
       "33     44706.0\n",
       "34     64911.0\n",
       "35     48188.0\n",
       "36     44535.0\n",
       "37     51312.0\n",
       "38     51841.0\n",
       "39     48314.0\n",
       "40     37637.0\n",
       "41     48004.0\n",
       "42     44348.0\n",
       "43     53737.0\n",
       "44     45493.0\n",
       "45     44831.0\n",
       "46     52124.0\n",
       "47     59333.0\n",
       "48     37353.0\n",
       "49     48666.0\n",
       "50     61091.0\n",
       "Name: Income, dtype: float64"
      ]
     },
     "execution_count": 85,
     "metadata": {},
     "output_type": "execute_result"
    }
   ],
   "source": [
    "# Check All Income Columns \n",
    "df_total['Income'].astype('float64')"
   ]
  },
  {
   "cell_type": "code",
   "execution_count": 86,
   "metadata": {},
   "outputs": [
    {
     "data": {
      "text/plain": [
       "State                 object\n",
       "Participation_ACT    float64\n",
       "English_ACT          float64\n",
       "Math_ACT             float64\n",
       "Reading_ACT          float64\n",
       "Science_ACT          float64\n",
       "Composite_ACT        float64\n",
       "Total_ACT            float64\n",
       "Participation_SAT    float64\n",
       "EBRW_SAT             float64\n",
       "Math_SAT             float64\n",
       "Total_SAT            float64\n",
       "State                 object\n",
       "Income                 int64\n",
       "dtype: object"
      ]
     },
     "execution_count": 86,
     "metadata": {},
     "output_type": "execute_result"
    }
   ],
   "source": [
    "# Recheck new dataframe types\n",
    "df_total.dtypes"
   ]
  },
  {
   "cell_type": "code",
   "execution_count": 87,
   "metadata": {},
   "outputs": [],
   "source": [
    "# Change Income Column from int64 to float64\n",
    "df_total['Income'] = df_total['Income'].astype('float64')"
   ]
  },
  {
   "cell_type": "code",
   "execution_count": 88,
   "metadata": {},
   "outputs": [
    {
     "data": {
      "text/plain": [
       "State                 object\n",
       "Participation_ACT    float64\n",
       "English_ACT          float64\n",
       "Math_ACT             float64\n",
       "Reading_ACT          float64\n",
       "Science_ACT          float64\n",
       "Composite_ACT        float64\n",
       "Total_ACT            float64\n",
       "Participation_SAT    float64\n",
       "EBRW_SAT             float64\n",
       "Math_SAT             float64\n",
       "Total_SAT            float64\n",
       "State                 object\n",
       "Income               float64\n",
       "dtype: object"
      ]
     },
     "execution_count": 88,
     "metadata": {},
     "output_type": "execute_result"
    }
   ],
   "source": [
    "df_total.dtypes"
   ]
  },
  {
   "cell_type": "code",
   "execution_count": 89,
   "metadata": {},
   "outputs": [
    {
     "data": {
      "text/html": [
       "<div>\n",
       "<style scoped>\n",
       "    .dataframe tbody tr th:only-of-type {\n",
       "        vertical-align: middle;\n",
       "    }\n",
       "\n",
       "    .dataframe tbody tr th {\n",
       "        vertical-align: top;\n",
       "    }\n",
       "\n",
       "    .dataframe thead th {\n",
       "        text-align: right;\n",
       "    }\n",
       "</style>\n",
       "<table border=\"1\" class=\"dataframe\">\n",
       "  <thead>\n",
       "    <tr style=\"text-align: right;\">\n",
       "      <th></th>\n",
       "      <th>State</th>\n",
       "      <th>Participation_ACT</th>\n",
       "      <th>English_ACT</th>\n",
       "      <th>Math_ACT</th>\n",
       "      <th>Reading_ACT</th>\n",
       "      <th>Science_ACT</th>\n",
       "      <th>Composite_ACT</th>\n",
       "      <th>Total_ACT</th>\n",
       "      <th>Participation_SAT</th>\n",
       "      <th>EBRW_SAT</th>\n",
       "      <th>Math_SAT</th>\n",
       "      <th>Total_SAT</th>\n",
       "      <th>State</th>\n",
       "      <th>Income_Test</th>\n",
       "    </tr>\n",
       "  </thead>\n",
       "  <tbody>\n",
       "    <tr>\n",
       "      <th>0</th>\n",
       "      <td>Alabama</td>\n",
       "      <td>100.0</td>\n",
       "      <td>18.9</td>\n",
       "      <td>18.4</td>\n",
       "      <td>19.7</td>\n",
       "      <td>19.4</td>\n",
       "      <td>19.2</td>\n",
       "      <td>76.4</td>\n",
       "      <td>5.0</td>\n",
       "      <td>593.0</td>\n",
       "      <td>572.0</td>\n",
       "      <td>1165.0</td>\n",
       "      <td>Alabama</td>\n",
       "      <td>37508.0</td>\n",
       "    </tr>\n",
       "    <tr>\n",
       "      <th>1</th>\n",
       "      <td>Alaska</td>\n",
       "      <td>65.0</td>\n",
       "      <td>18.7</td>\n",
       "      <td>19.8</td>\n",
       "      <td>20.4</td>\n",
       "      <td>19.9</td>\n",
       "      <td>19.8</td>\n",
       "      <td>78.8</td>\n",
       "      <td>38.0</td>\n",
       "      <td>547.0</td>\n",
       "      <td>533.0</td>\n",
       "      <td>1080.0</td>\n",
       "      <td>Alaska</td>\n",
       "      <td>63610.0</td>\n",
       "    </tr>\n",
       "    <tr>\n",
       "      <th>2</th>\n",
       "      <td>Arizona</td>\n",
       "      <td>62.0</td>\n",
       "      <td>18.6</td>\n",
       "      <td>19.8</td>\n",
       "      <td>20.1</td>\n",
       "      <td>19.8</td>\n",
       "      <td>19.7</td>\n",
       "      <td>78.3</td>\n",
       "      <td>30.0</td>\n",
       "      <td>563.0</td>\n",
       "      <td>553.0</td>\n",
       "      <td>1116.0</td>\n",
       "      <td>Arizona</td>\n",
       "      <td>39583.0</td>\n",
       "    </tr>\n",
       "    <tr>\n",
       "      <th>3</th>\n",
       "      <td>Arkansas</td>\n",
       "      <td>100.0</td>\n",
       "      <td>18.9</td>\n",
       "      <td>19.0</td>\n",
       "      <td>19.7</td>\n",
       "      <td>19.5</td>\n",
       "      <td>19.4</td>\n",
       "      <td>77.1</td>\n",
       "      <td>3.0</td>\n",
       "      <td>614.0</td>\n",
       "      <td>594.0</td>\n",
       "      <td>1208.0</td>\n",
       "      <td>Arkansas</td>\n",
       "      <td>36714.0</td>\n",
       "    </tr>\n",
       "    <tr>\n",
       "      <th>4</th>\n",
       "      <td>California</td>\n",
       "      <td>31.0</td>\n",
       "      <td>22.5</td>\n",
       "      <td>22.7</td>\n",
       "      <td>23.1</td>\n",
       "      <td>22.2</td>\n",
       "      <td>22.8</td>\n",
       "      <td>90.5</td>\n",
       "      <td>53.0</td>\n",
       "      <td>531.0</td>\n",
       "      <td>524.0</td>\n",
       "      <td>1055.0</td>\n",
       "      <td>California</td>\n",
       "      <td>60359.0</td>\n",
       "    </tr>\n",
       "  </tbody>\n",
       "</table>\n",
       "</div>"
      ],
      "text/plain": [
       "        State  Participation_ACT  English_ACT  Math_ACT  Reading_ACT  \\\n",
       "0     Alabama              100.0         18.9      18.4         19.7   \n",
       "1      Alaska               65.0         18.7      19.8         20.4   \n",
       "2     Arizona               62.0         18.6      19.8         20.1   \n",
       "3    Arkansas              100.0         18.9      19.0         19.7   \n",
       "4  California               31.0         22.5      22.7         23.1   \n",
       "\n",
       "   Science_ACT  Composite_ACT  Total_ACT  Participation_SAT  EBRW_SAT  \\\n",
       "0         19.4           19.2       76.4                5.0     593.0   \n",
       "1         19.9           19.8       78.8               38.0     547.0   \n",
       "2         19.8           19.7       78.3               30.0     563.0   \n",
       "3         19.5           19.4       77.1                3.0     614.0   \n",
       "4         22.2           22.8       90.5               53.0     531.0   \n",
       "\n",
       "   Math_SAT  Total_SAT       State  Income_Test  \n",
       "0     572.0     1165.0     Alabama      37508.0  \n",
       "1     533.0     1080.0      Alaska      63610.0  \n",
       "2     553.0     1116.0     Arizona      39583.0  \n",
       "3     594.0     1208.0    Arkansas      36714.0  \n",
       "4     524.0     1055.0  California      60359.0  "
      ]
     },
     "execution_count": 89,
     "metadata": {},
     "output_type": "execute_result"
    }
   ],
   "source": [
    "# Rename the Income Column in new dataframe \n",
    "df_total.rename(index=str, inplace=True, columns={'Income':'Income_Test'})\n",
    "df_total.head()"
   ]
  },
  {
   "cell_type": "code",
   "execution_count": 94,
   "metadata": {},
   "outputs": [
    {
     "data": {
      "text/plain": [
       "32447.0"
      ]
     },
     "execution_count": 94,
     "metadata": {},
     "output_type": "execute_result"
    }
   ],
   "source": [
    "# Check Minimum Income\n",
    "df_total[['Income_Test']].min().max()"
   ]
  },
  {
   "cell_type": "code",
   "execution_count": 95,
   "metadata": {},
   "outputs": [
    {
     "data": {
      "text/plain": [
       "159607.0"
      ]
     },
     "execution_count": 95,
     "metadata": {},
     "output_type": "execute_result"
    }
   ],
   "source": [
    "# Check Maximum Income\n",
    "df_total[['Income_Test']].max().max()"
   ]
  },
  {
   "cell_type": "code",
   "execution_count": 96,
   "metadata": {},
   "outputs": [
    {
     "data": {
      "text/plain": [
       "48188.0"
      ]
     },
     "execution_count": 96,
     "metadata": {},
     "output_type": "execute_result"
    }
   ],
   "source": [
    "# Check Median Income\n",
    "df_total['Income_Test'].median()"
   ]
  },
  {
   "cell_type": "code",
   "execution_count": 98,
   "metadata": {},
   "outputs": [
    {
     "data": {
      "text/plain": [
       "Text(0.5, 1.0, 'Income, comparing')"
      ]
     },
     "execution_count": 98,
     "metadata": {},
     "output_type": "execute_result"
    },
    {
     "data": {
      "image/png": "[encoded data removed]",
      "text/plain": [
       "<Figure size 1152x360 with 3 Axes>"
      ]
     },
     "metadata": {
      "needs_background": "light"
     },
     "output_type": "display_data"
    }
   ],
   "source": [
    "# Plot ACT and SAT Math test results with Income\n",
    "figure,ax = plt.subplots(nrows=1,ncols=3,figsize=(16,5))\n",
    "df_total['Income_Test'].plot(ax=ax[0],title=\"Math, ACT\",kind='hist')\n",
    "df_total['Income_Test'].plot(ax=ax[1],title=\"Math, SAT\",kind='hist')\n",
    "plt.scatter(df_total['Math_ACT'],df_total['Math_SAT'])\n",
    "plt.ylabel('SAT')\n",
    "plt.xlabel('ACT')\n",
    "plt.title('Income, comparing')"
   ]
  },
  {
   "cell_type": "code",
   "execution_count": 99,
   "metadata": {},
   "outputs": [
    {
     "data": {
      "text/plain": [
       "Text(0.5, 1.0, 'Income, comparing')"
      ]
     },
     "execution_count": 99,
     "metadata": {},
     "output_type": "execute_result"
    },
    {
     "data": {
      "image/png": "[encoded data removed]",
      "text/plain": [
       "<Figure size 1152x360 with 3 Axes>"
      ]
     },
     "metadata": {
      "needs_background": "light"
     },
     "output_type": "display_data"
    }
   ],
   "source": [
    "# Continue plotting ACT and SAT test results with Income\n",
    "figure,ax = plt.subplots(nrows=1,ncols=3,figsize=(16,5))\n",
    "df_total['Income_Test'].plot(ax=ax[0],title=\"English, ACT\",kind='hist')\n",
    "df_total['Income_Test'].plot(ax=ax[1],title=\"Evidence based Reading and Writing, SAT\",kind='hist')\n",
    "plt.scatter(df_total['English_ACT'],df_total['EBRW_SAT'])\n",
    "plt.ylabel('SAT')\n",
    "plt.xlabel('ACT')\n",
    "plt.title('Income, comparing')"
   ]
  },
  {
   "cell_type": "code",
   "execution_count": 105,
   "metadata": {},
   "outputs": [
    {
     "data": {
      "image/png": "[encoded data removed]",
      "text/plain": [
       "<Figure size 432x288 with 1 Axes>"
      ]
     },
     "metadata": {
      "needs_background": "light"
     },
     "output_type": "display_data"
    },
    {
     "data": {
      "image/png": "[encoded data removed]",
      "text/plain": [
       "<Figure size 432x288 with 1 Axes>"
      ]
     },
     "metadata": {
      "needs_background": "light"
     },
     "output_type": "display_data"
    }
   ],
   "source": [
    "# Check the ACT and SAT data distribution with Income\n",
    "plt.scatter(df_total['Math_ACT'],df_total['Income_Test'])\n",
    "plt.ylabel('Income_Test')\n",
    "plt.xlabel('Participation')\n",
    "plt.title('ACT (corr = -0.856612)')\n",
    "plt.show()\n",
    "\n",
    "plt.scatter(df_total['Math_SAT'],df_total['Income_Test'])\n",
    "plt.ylabel('Total')\n",
    "plt.xlabel('Participation')\n",
    "plt.title('SAT (corr = -0.867540)')\n",
    "plt.show()"
   ]
  },
  {
   "cell_type": "markdown",
   "metadata": {},
   "source": [
    "## Summary of Findings - \n",
    "### 1) No real correlation between the results for the Math ACT and the Math SAT tests\n",
    "### 2) Average grades of all ACT/SAT subjects are linear\n",
    "### 3) Negative correlations between participation-levels and average grades\n",
    "### 4) Students with higher scores on one test opted-out of taking an additional test\n",
    "### 5) Categorical mix between normal and not normally distribution in the ACT and SAT test results\n",
    "### 6) Strong correlation between all ACT subjects' average grade and the total score*\n",
    "### 7) Weak correlation between ACT participation and grade*\n",
    "### 8) Strong correlation between all SAT subjects' average grade and the total score*\n",
    "### 9) Weak correlation between SAT participation and grade*\n",
    "### 10) Results indicate evidence of different populations of test-takers* (*Regarding points 6; 7; 8; and 9) \n",
    "### 11) Confidence Intervals are not only different but there is a discrepancy between ACT and SAT participation*\n",
    "### While income-levels might influence test-taking results a combination of some or all of other factors including rural versus urban test-takers; gender; ethnicity; race and/or the requirements of each state's core-curriculum might also be contributing factors and influences on student's ACT/SAT test-results"
   ]
  },
  {
   "cell_type": "markdown",
   "metadata": {},
   "source": [
    "### Data Resources - \n",
    "\n",
    "#### ACT: https://blog.prepscholar.com/act-scores-by-state-averages-highs-and-lows\n",
    "\n",
    "#### SAT: https://blog.prepscholar.com/average-sat-scores-by-state-most-recent\n",
    "\n",
    "#### U.S. Depart. of Commerce, Bureau of Economic Analysis: https://www.bea.gov/iTable/index_regional.cfm"
   ]
  },
  {
   "cell_type": "code",
   "execution_count": null,
   "metadata": {},
   "outputs": [],
   "source": []
  }
 ],
 "metadata": {
  "kernelspec": {
   "display_name": "Python 3",
   "language": "python",
   "name": "python3"
  },
  "language_info": {
   "codemirror_mode": {
    "name": "ipython",
    "version": 3
   },
   "file_extension": ".py",
   "mimetype": "text/x-python",
   "name": "python",
   "nbconvert_exporter": "python",
   "pygments_lexer": "ipython3",
   "version": "3.8.5"
  }
 },
 "nbformat": 4,
 "nbformat_minor": 4
}
